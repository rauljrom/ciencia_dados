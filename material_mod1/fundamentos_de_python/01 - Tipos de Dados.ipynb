{
 "cells": [
  {
   "cell_type": "markdown",
   "id": "592f918a",
   "metadata": {},
   "source": [
    "# Fundamentos em Python\n",
    "****\n",
    "\n",
    "Essa aula tem objetivo de apresentar os principais fundamentos da linguagem python e suas aplicações no dia a dia. "
   ]
  },
  {
   "cell_type": "markdown",
   "id": "7eb794f2",
   "metadata": {},
   "source": [
    "### Aplicações \n",
    "- Desenvolvimento web: Python é muito utilizado no desenvolvimento de aplicações web, através de frameworks como Django e Flask.\n",
    "- Ciência de dados: Python é uma das linguagens mais utilizadas na área de ciência de dados, graças às bibliotecas Numpy, Pandas, Scikit-learn e outras, que permitem a análise e visualização de dados de forma eficiente e intuitiva.\n",
    "- Automação de tarefas: Python também é muito utilizado para automação de tarefas, desde scripts simples para renomear arquivos até sistemas de automação de processos empresariais.\n",
    "- Desenvolvimento de jogos: Python é uma linguagem bastante utilizada no desenvolvimento de jogos, principalmente através da biblioteca Pygame.\n"
   ]
  },
  {
   "cell_type": "markdown",
   "id": "316736c2",
   "metadata": {},
   "source": [
    "#### Conhecendo os Tipos de Dados \n",
    "Python é uma linguagem de programação dinamicamente tipada, o que significa que o tipo de dados é inferido a partir do valor atribuído a ele. Existem vários tipos de dados em Python, cada um com suas próprias características e métodos. Nesta resposta, vamos apresentar cada um desses tipos de dados e dar um exemplo prático de como utilizá-los.\n"
   ]
  },
  {
   "cell_type": "markdown",
   "id": "b97f5e31",
   "metadata": {},
   "source": [
    "##### String (str)\n",
    "\n",
    "O tipo de dados de string é uma sequência de caracteres que representa um texto. Ela é uma das principais estruturas de dados da linguagem, sendo amplamente utilizada em diversos contextos, como manipulação de arquivos, comunicação com banco de dados e processamento de texto.\n",
    "\n",
    "Para criar uma string em Python, basta envolver o texto entre aspas simples ou duplas. Por exemplo:"
   ]
  },
  {
   "cell_type": "code",
   "execution_count": 2,
   "id": "2b8f766c",
   "metadata": {},
   "outputs": [],
   "source": [
    "'isto é um texto em python'\n",
    "\n",
    "mensagem = \"isto é o inicio do dominio do python\""
   ]
  },
  {
   "cell_type": "code",
   "execution_count": 4,
   "id": "ca106c8b",
   "metadata": {},
   "outputs": [
    {
     "name": "stdout",
     "output_type": "stream",
     "text": [
      "conteúdo da variável mensagem: isto é o inicio do dominio do python\n"
     ]
    }
   ],
   "source": [
    "mensagem\n",
    "print(\"conteúdo da variável mensagem:\", mensagem)"
   ]
  },
  {
   "cell_type": "markdown",
   "id": "395ee33b",
   "metadata": {},
   "source": [
    "Além disso, é possível usar aspas triplas para criar strings com múltiplas linhas. Por exemplo:"
   ]
  },
  {
   "cell_type": "code",
   "execution_count": 5,
   "id": "de17f207",
   "metadata": {},
   "outputs": [],
   "source": [
    "\n",
    "frase_edison = '''\n",
    "Qualquer homem pode alcançar o sucesso,\n",
    "se dirigir seus pensamentos numa só direção e insistir\n",
    "neles até conseguir alguma coisa.\n",
    "'''\n"
   ]
  },
  {
   "cell_type": "code",
   "execution_count": 7,
   "id": "78d7fc8e",
   "metadata": {},
   "outputs": [
    {
     "name": "stdout",
     "output_type": "stream",
     "text": [
      "\n",
      "Qualquer homem pode alcançar o sucesso,\n",
      "se dirigir seus pensamentos numa só direção e insistir\n",
      "neles até conseguir alguma coisa.\n",
      "\n"
     ]
    }
   ],
   "source": [
    "print(frase_edison) "
   ]
  },
  {
   "cell_type": "code",
   "execution_count": 8,
   "id": "53e4ed28",
   "metadata": {},
   "outputs": [
    {
     "name": "stdout",
     "output_type": "stream",
     "text": [
      "\n",
      "SELECT * FROM clientes \n",
      "WHERE \n",
      "    idade > 30 \n",
      "    AND \n",
      "    renda > 5000 \n",
      "ORDER BY renda DESC\n",
      "\n"
     ]
    }
   ],
   "source": [
    "consulta_banco_dados = '''\n",
    "SELECT * FROM clientes \n",
    "WHERE \n",
    "    idade > 30 \n",
    "    AND \n",
    "    renda > 5000 \n",
    "ORDER BY renda DESC\n",
    "'''\n",
    "print(consulta_banco_dados)"
   ]
  },
  {
   "cell_type": "markdown",
   "id": "4d7ac7e9",
   "metadata": {},
   "source": [
    "As strings em Python são imutáveis, o que significa que não é possível alterar um caractere específico de uma string. No entanto, é possível criar uma nova string a partir de uma existente, utilizando métodos de manipulação de strings, como o replace() e o split()."
   ]
  },
  {
   "cell_type": "code",
   "execution_count": 13,
   "id": "9aa47587",
   "metadata": {},
   "outputs": [
    {
     "name": "stdout",
     "output_type": "stream",
     "text": [
      "\n",
      "SELECT * FROM pessoas \n",
      "WHERE \n",
      "    idade > 30 \n",
      "    AND \n",
      "    renda > 5000 \n",
      "ORDER BY renda DESC\n",
      "\n"
     ]
    }
   ],
   "source": [
    "consulta_updated=consulta_banco_dados.replace('clientes', 'pessoas')\n",
    "print(consulta_updated)"
   ]
  },
  {
   "cell_type": "code",
   "execution_count": 16,
   "id": "32096203",
   "metadata": {},
   "outputs": [
    {
     "name": "stdout",
     "output_type": "stream",
     "text": [
      "\n",
      "select * from clientes \n",
      "where \n",
      "    idade > 30 \n",
      "    and \n",
      "    renda > 5000 \n",
      "order by renda desc\n",
      "\n"
     ]
    }
   ],
   "source": [
    "print(consulta_banco_dados.lower())\n"
   ]
  },
  {
   "cell_type": "markdown",
   "id": "14a12004",
   "metadata": {},
   "source": [
    "Algumas operações comuns que podem ser realizadas com strings incluem concatenação (união de duas ou mais strings), indexação (acesso a um caractere específico da string) e fatiamento (obtenção de uma sub-string a partir da string original)."
   ]
  },
  {
   "cell_type": "code",
   "execution_count": 18,
   "id": "3a0d9a8b",
   "metadata": {},
   "outputs": [
    {
     "name": "stdout",
     "output_type": "stream",
     "text": [
      "Edison foi um grande inventor\n"
     ]
    }
   ],
   "source": [
    "texto_1 = \"Edison\"\n",
    "texto_2 = \"foi um grande inventor\"\n",
    "\n",
    "print(texto_1 +' '+texto_2)"
   ]
  },
  {
   "cell_type": "code",
   "execution_count": 21,
   "id": "3f0783fe",
   "metadata": {},
   "outputs": [
    {
     "name": "stdout",
     "output_type": "stream",
     "text": [
      "\"\n",
      "Qualquer homem pode alcançar o sucesso,\n",
      "se dirigir seus pensamentos numa só direção e insistir\n",
      "neles até conseguir alguma coisa.\n",
      "\"\n",
      "Edison foi um grande inventor\n"
     ]
    }
   ],
   "source": [
    "print('\"'+frase_edison+'\"'+ '\\n'+texto_1 +' '+texto_2)"
   ]
  },
  {
   "cell_type": "markdown",
   "id": "d42504ab",
   "metadata": {},
   "source": [
    "##### Inteiro (int)\n",
    "O tipo de dados inteiro (int) representa números inteiros positivos ou negativos. Inteiros podem ser criados simplesmente digitando um número inteiro diretamente no código Python ou podem ser o resultado de operações matemáticas."
   ]
  },
  {
   "cell_type": "code",
   "execution_count": 25,
   "id": "500f2e1d",
   "metadata": {},
   "outputs": [
    {
     "name": "stdout",
     "output_type": "stream",
     "text": [
      "soma a + b = 135\n",
      "4250\n"
     ]
    }
   ],
   "source": [
    "a = 50\n",
    "b = 85\n",
    "c = a + b\n",
    "print(\"soma a + b =\", c)\n",
    "\n",
    "d = a * b\n",
    "print(d)    "
   ]
  },
  {
   "cell_type": "markdown",
   "id": "9ef630a8",
   "metadata": {},
   "source": [
    "##### Operações"
   ]
  },
  {
   "cell_type": "code",
   "execution_count": null,
   "id": "5bdc037b",
   "metadata": {},
   "outputs": [
    {
     "name": "stdout",
     "output_type": "stream",
     "text": [
      "Adição:  135\n",
      "Subtração:  35\n",
      "Multiplicação:  4250\n",
      "Divisão:  1.7\n",
      "Divisão Inteira:  1\n",
      "Exponenciação:  2500\n",
      "Módulo:  35\n"
     ]
    }
   ],
   "source": [
    "adicao = a + b\n",
    "substracao = b - a\n",
    "multiplicacao = a * b\n",
    "divisao = b / a\n",
    "divisao_inteira = b // a\n",
    "exponenciacao = a ** 2\n",
    "modulo = b % a\n",
    "print(\"Adição: \", adicao)\n",
    "print(\"Subtração: \", substracao)\n",
    "print(\"Multiplicação: \", multiplicacao)\n",
    "print(\"Divisão: \", divisao)\n",
    "print(\"Divisão Inteira: \", divisao_inteira)\n",
    "print(\"Exponenciação ao quadrado: \", exponenciacao)\n",
    "print(\"Módulo: \", modulo)   "
   ]
  },
  {
   "cell_type": "code",
   "execution_count": 30,
   "id": "8f7c25e7",
   "metadata": {},
   "outputs": [
    {
     "name": "stdout",
     "output_type": "stream",
     "text": [
      "\n",
      "Adição a + b = 135\n",
      "Subtração b - a = 35\n",
      "Multiplicação a * b = 4250\n",
      "Divisão b / a = 1.7\n",
      "Divisão Inteira b / a =  1\n",
      "Exponenciação ao quadrado a^2 = 2500\n",
      "Módulo b % a = 35   \n",
      "\n"
     ]
    }
   ],
   "source": [
    "print(\n",
    "f'''\n",
    "Adição a + b = {adicao}\n",
    "Subtração b - a = {substracao}\n",
    "Multiplicação a * b = {multiplicacao}\n",
    "Divisão b / a = {divisao}\n",
    "Divisão Inteira b / a =  {divisao_inteira}\n",
    "Exponenciação ao quadrado a^2 = {exponenciacao}\n",
    "Módulo b % a = {modulo}   \n",
    "'''\n",
    ")"
   ]
  },
  {
   "cell_type": "markdown",
   "id": "1fa0b832",
   "metadata": {},
   "source": [
    "##### Ponto Flutuante ou Decimal (float)\n",
    "O tipo de dados float representa números com casas decimais. Assim como os inteiros, os floats podem ser criados diretamente no código ou como resultado de operações matemáticas."
   ]
  },
  {
   "cell_type": "code",
   "execution_count": 33,
   "id": "24e1bd52",
   "metadata": {},
   "outputs": [
    {
     "name": "stdout",
     "output_type": "stream",
     "text": [
      "soma a + b = 4.55\n"
     ]
    }
   ],
   "source": [
    "a = 1.8\n",
    "b = 2.75\n",
    "\n",
    "c = a + b\n",
    "print(\"soma a + b =\", c)    "
   ]
  },
  {
   "cell_type": "code",
   "execution_count": 38,
   "id": "621c4daf",
   "metadata": {},
   "outputs": [
    {
     "name": "stdout",
     "output_type": "stream",
     "text": [
      "Tamanho a em bytes do tipo float: 24\n",
      "Tamanho b em bytes do tipo float: 24\n"
     ]
    }
   ],
   "source": [
    "import sys\n",
    "print(\"Tamanho a em bytes do tipo float:\", sys.getsizeof(a))\n",
    "print(\"Tamanho b em bytes do tipo float:\",  sys.getsizeof(b))"
   ]
  },
  {
   "cell_type": "markdown",
   "id": "8ae3f6fb",
   "metadata": {},
   "source": [
    "##### Conversão de Tipos de Dados\n",
    "É possível realizar conversão de tipos de dados de acordo com a necessidade do contexto."
   ]
  },
  {
   "cell_type": "code",
   "execution_count": 40,
   "id": "66a85d87",
   "metadata": {},
   "outputs": [
    {
     "name": "stdout",
     "output_type": "stream",
     "text": [
      "Tipo de a_float: <class 'float'>\n",
      "Tipo de a_int: <class 'int'>\n",
      "Valor de a_int: 1\n"
     ]
    }
   ],
   "source": [
    "a_float = 1.57\n",
    "print(\"Tipo de a_float:\", type(a_float))\n",
    "\n",
    "a_int = int(a_float)\n",
    "print(\"Tipo de a_int:\", type(a_int))\n",
    "print(\"Valor de a_int:\", a_int)"
   ]
  },
  {
   "cell_type": "code",
   "execution_count": null,
   "id": "f7829711",
   "metadata": {},
   "outputs": [
    {
     "name": "stdout",
     "output_type": "stream",
     "text": [
      "Tipo de b_int: <class 'int'>\n",
      "Tipo de b_float: <class 'float'>\n",
      "Valor de b_float: 100.0\n"
     ]
    }
   ],
   "source": [
    "b_int = 100\n",
    "print(\"Tipo original de b_int:\", type(b_int))\n",
    "\n",
    "b_float = float(b_int)\n",
    "print(\"Tipo de b_float:\", type(b_float))\n",
    "print(\"Valor de b_float:\", b_float)"
   ]
  },
  {
   "cell_type": "code",
   "execution_count": 46,
   "id": "7a2a85b0",
   "metadata": {},
   "outputs": [
    {
     "name": "stdout",
     "output_type": "stream",
     "text": [
      "Tipo original de valor_produto: <class 'str'>\n",
      "aplicando conversão de string para float... \n",
      "Tipo convertido de valor_produto: <class 'float'>\n",
      "Valor convertido de valor_produto: 4.89\n"
     ]
    }
   ],
   "source": [
    "valor_produto = '4.890'\n",
    "print(\"Tipo original de valor_produto:\", type(valor_produto))\n",
    "\n",
    "print(\"aplicando conversão de string para float... \")\n",
    "\n",
    "valor_produto = float(valor_produto)\n",
    "print(\"Tipo convertido de valor_produto:\", type(valor_produto))\n",
    "print(\"Valor convertido de valor_produto:\", valor_produto)\n",
    "\n"
   ]
  },
  {
   "cell_type": "markdown",
   "id": "6dcc6cf2",
   "metadata": {},
   "source": [
    "##### Boolean (bool)\n",
    "O tipo de dados boolean é utilizado para representar valores lógicos verdadeiro (True) ou falso (False). Booleans são frequentemente utilizados em estruturas de controle, como if e while."
   ]
  },
  {
   "cell_type": "code",
   "execution_count": 48,
   "id": "e40096de",
   "metadata": {},
   "outputs": [
    {
     "name": "stdout",
     "output_type": "stream",
     "text": [
      "Tipo de acesso: <class 'bool'>\n",
      "Valor de acesso: True\n",
      "Acesso permitido\n"
     ]
    }
   ],
   "source": [
    "\n",
    "acesso = True\n",
    "print(\"Tipo de acesso:\", type(acesso))\n",
    "print(\"Valor de acesso:\", acesso)\n",
    "\n",
    "if acesso:\n",
    "    print(\"Acesso permitido\")\n",
    "else:\n",
    "    print(\"Acesso negado\")  "
   ]
  },
  {
   "cell_type": "markdown",
   "id": "48c244ad",
   "metadata": {},
   "source": [
    "Exemplo:"
   ]
  },
  {
   "cell_type": "code",
   "execution_count": null,
   "id": "e3eb5ea8",
   "metadata": {},
   "outputs": [
    {
     "name": "stdout",
     "output_type": "stream",
     "text": [
      "Tente Novamente, tentativa  1 de 3\n",
      "Tente Novamente, tentativa  2 de 3\n",
      "Tente Novamente, tentativa  3 de 3\n",
      "Suas tentativas acabaram. O número secreto era 7\n"
     ]
    }
   ],
   "source": [
    "numero_secreto = 7\n",
    "\n",
    "numero_digitado = int(input(\"Digite um número entre 1 e 10: \"))\n",
    "contador = 0\n",
    "while contador < 4:\n",
    "    if numero_digitado == numero_secreto:\n",
    "        print(\"Você acertou!\")\n",
    "        break      \n",
    "    else:\n",
    "        print(\"Tente Novamente, tentativa \", contador, \"de 3\")    \n",
    "        numero_digitado = int(input(\"Digite um número entre 1 e 10: \"))\n",
    "        contador += 1\n",
    "else:\n",
    "    print(\"Suas tentativas acabaram. O número secreto era\", numero_secreto)"
   ]
  },
  {
   "cell_type": "code",
   "execution_count": null,
   "id": "a8ee8f68",
   "metadata": {},
   "outputs": [],
   "source": []
  }
 ],
 "metadata": {
  "kernelspec": {
   "display_name": "modulo_1",
   "language": "python",
   "name": "python3"
  },
  "language_info": {
   "codemirror_mode": {
    "name": "ipython",
    "version": 3
   },
   "file_extension": ".py",
   "mimetype": "text/x-python",
   "name": "python",
   "nbconvert_exporter": "python",
   "pygments_lexer": "ipython3",
   "version": "3.11.2"
  }
 },
 "nbformat": 4,
 "nbformat_minor": 5
}

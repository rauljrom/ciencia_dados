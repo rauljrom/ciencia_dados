{
 "cells": [
  {
   "cell_type": "markdown",
   "id": "592f918a",
   "metadata": {},
   "source": [
    "# Funções\n",
    "****\n",
    "\n",
    "Uma função em Python é um bloco de código reutilizável que executa uma tarefa específica. Ela recebe entradas (conhecidas como parâmetros ou argumentos), processa essas entradas e pode retornar um resultado. As funções são uma parte essencial da programação em Python, pois permitem dividir o código em partes menores e mais gerenciáveis, promovendo a reutilização e a modularidade do código.\n",
    "\n",
    "Para definir uma função em Python, você usa a palavra-chave def, seguida pelo nome da função e, opcionalmente, uma lista de parâmetros entre parênteses. O bloco de código da função é indentado e segue a definição da função. Aqui está um exemplo simples de uma função que soma dois números:"
   ]
  },
  {
   "cell_type": "markdown",
   "id": "9ac8dd15",
   "metadata": {},
   "source": [
    "Exemplo 1: Função Soma"
   ]
  },
  {
   "cell_type": "code",
   "execution_count": null,
   "id": "e970def1",
   "metadata": {},
   "outputs": [],
   "source": [
    "def soma_valores(numero_1, numero_2):\n",
    "    return numero_1 + numero_2\n",
    "def subtrai_valores(numero_1, numero_2):\n",
    "    return numero_2 - numero_1      \n"
   ]
  },
  {
   "cell_type": "markdown",
   "id": "40e388b5",
   "metadata": {},
   "source": [
    "Este exemplo, a função soma recebe dois parâmetros a e b, realiza a soma deles e retorna o resultado. Você pode chamar essa função em qualquer lugar do seu código, fornecendo os valores desejados para a e b. Por exemplo:"
   ]
  },
  {
   "cell_type": "code",
   "execution_count": 2,
   "id": "e49d67fb",
   "metadata": {},
   "outputs": [
    {
     "name": "stdout",
     "output_type": "stream",
     "text": [
      "soma a + b = 4.55\n",
      "subtração b - a = 0.95\n"
     ]
    }
   ],
   "source": [
    "a = 1.8\n",
    "b = 2.75\n",
    "adicao = soma_valores(a, b)\n",
    "substracao = subtrai_valores(a, b)\n",
    "print(\"soma a + b =\", adicao)\n",
    "print(\"subtração b - a =\", substracao)  "
   ]
  },
  {
   "cell_type": "code",
   "execution_count": null,
   "id": "51dfd0c3",
   "metadata": {},
   "outputs": [],
   "source": []
  },
  {
   "cell_type": "markdown",
   "id": "8c828ce2",
   "metadata": {},
   "source": [
    "Exemplo 2: Função que verifica se um número é par"
   ]
  },
  {
   "cell_type": "code",
   "execution_count": 7,
   "id": "e8c630d5",
   "metadata": {},
   "outputs": [],
   "source": [
    "def verifica_par(number):\n",
    "    if number % 2 == 0:\n",
    "        return True\n",
    "    else:\n",
    "        return False\n",
    "    \n",
    "\n"
   ]
  },
  {
   "cell_type": "code",
   "execution_count": 8,
   "id": "5edc7c71",
   "metadata": {},
   "outputs": [
    {
     "name": "stdout",
     "output_type": "stream",
     "text": [
      "O número 130 é par.\n"
     ]
    }
   ],
   "source": [
    "numero = int(input(\"Digite um número inteiro: \"))\n",
    "\n",
    "if verifica_par(numero):\n",
    "    print(f\"O número {numero} é par.\")  \n",
    "else:\n",
    "    print(f\"O número {numero} é ímpar.\")        \n",
    "#!/usr/bin/env python3  "
   ]
  },
  {
   "cell_type": "markdown",
   "id": "4f452d9c",
   "metadata": {},
   "source": [
    "Exemplo 3: Função que calcula a média de uma lista de números"
   ]
  },
  {
   "cell_type": "code",
   "execution_count": 14,
   "id": "997fb212",
   "metadata": {},
   "outputs": [],
   "source": [
    "def media_lista(lista_numeros):\n",
    "    if len(lista_numeros) > 0:\n",
    "        return round(sum(lista_numeros) / len(lista_numeros), 2)\n",
    "    else:\n",
    "        print(\"A lista está vazia. Não é possível calcular a média.\")\n",
    "        return 0\n",
    "\n"
   ]
  },
  {
   "cell_type": "code",
   "execution_count": 15,
   "id": "fa301507",
   "metadata": {},
   "outputs": [
    {
     "name": "stdout",
     "output_type": "stream",
     "text": [
      "a média da lista é: 133.42\n"
     ]
    }
   ],
   "source": [
    "lista_numeros = [10, 23, 45, 70, 88, 91, 100, 150, 200, 250, 175, 399]\n",
    "\n",
    "print(\"a média da lista é: \" + str(media_lista(lista_numeros)))"
   ]
  }
 ],
 "metadata": {
  "kernelspec": {
   "display_name": "modulo_1",
   "language": "python",
   "name": "python3"
  },
  "language_info": {
   "codemirror_mode": {
    "name": "ipython",
    "version": 3
   },
   "file_extension": ".py",
   "mimetype": "text/x-python",
   "name": "python",
   "nbconvert_exporter": "python",
   "pygments_lexer": "ipython3",
   "version": "3.11.2"
  }
 },
 "nbformat": 4,
 "nbformat_minor": 5
}

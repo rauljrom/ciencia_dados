{
 "cells": [
  {
   "cell_type": "markdown",
   "id": "316736c2",
   "metadata": {},
   "source": [
    "# Estruturas de Dados\n",
    "****\n",
    "As estruturas de dados desempenham um papel fundamental na organização e manipulação de informações em qualquer linguagem de programação. Em Python, uma linguagem conhecida por sua simplicidade e flexibilidade, uma variedade de estruturas de dados está disponível para lidar com diferentes necessidades de armazenamento e processamento de dados.\n",
    "\n",
    "Nesta aula, exploraremos algumas das estruturas de dados mais comuns em Python, incluindo listas, tuplas, conjuntos, dicionários, séries e dataframes. Cada uma dessas estruturas possui características únicas que a tornam adequada para diferentes tipos de tarefas.\n",
    "***"
   ]
  },
  {
   "cell_type": "markdown",
   "id": "2d53db6b",
   "metadata": {},
   "source": [
    "##### Lista (list)\n",
    "\n",
    "As listas em Python são estruturas de dados fundamentais que permitem armazenar coleções ordenadas de itens. Elas são mutáveis, o que significa que você pode adicionar, remover e modificar elementos após a criação da lista. As listas são muito versáteis e são amplamente utilizadas em programação Python para armazenar e manipular conjuntos de dados.\n",
    "\n",
    "O tipo de dados lista é utilizado para representar uma sequência **mutável** de valores. Uma lista é criada colocando valores separados por vírgulas entre colchetes. Os valores podem ser de qualquer tipo.\n"
   ]
  },
  {
   "cell_type": "code",
   "execution_count": 7,
   "id": "64b950f9",
   "metadata": {},
   "outputs": [
    {
     "data": {
      "text/plain": [
       "list"
      ]
     },
     "execution_count": 7,
     "metadata": {},
     "output_type": "execute_result"
    }
   ],
   "source": [
    "list_numbers = [1, 2, 3, 4, 5, 6, 7, 8, 9, 10]\n",
    "type(list_numbers)"
   ]
  },
  {
   "cell_type": "markdown",
   "id": "e2fd481d",
   "metadata": {},
   "source": [
    "Acesso a Elementos \n",
    "\n",
    "Para acessar elementos individuais em uma lista, utilize índices começando do 0."
   ]
  },
  {
   "cell_type": "code",
   "execution_count": 9,
   "id": "150908a5",
   "metadata": {},
   "outputs": [
    {
     "data": {
      "text/plain": [
       "1"
      ]
     },
     "execution_count": 9,
     "metadata": {},
     "output_type": "execute_result"
    }
   ],
   "source": [
    "list_numbers[0]"
   ]
  },
  {
   "cell_type": "code",
   "execution_count": 10,
   "id": "656604d5",
   "metadata": {},
   "outputs": [
    {
     "data": {
      "text/plain": [
       "10"
      ]
     },
     "execution_count": 10,
     "metadata": {},
     "output_type": "execute_result"
    }
   ],
   "source": [
    "list_numbers[-1]"
   ]
  },
  {
   "cell_type": "markdown",
   "id": "60e04a74",
   "metadata": {},
   "source": [
    "Adição de Elementos\n",
    "\n",
    "Adicione elementos ao final da lista com append() ou insira em uma posição específica com insert()."
   ]
  },
  {
   "cell_type": "code",
   "execution_count": 12,
   "id": "80633ca6",
   "metadata": {},
   "outputs": [
    {
     "data": {
      "text/plain": [
       "115"
      ]
     },
     "execution_count": 12,
     "metadata": {},
     "output_type": "execute_result"
    }
   ],
   "source": [
    "list_numbers.append(115)\n",
    "list_numbers[-1]"
   ]
  },
  {
   "cell_type": "code",
   "execution_count": 14,
   "id": "01b08f79",
   "metadata": {},
   "outputs": [
    {
     "name": "stdout",
     "output_type": "stream",
     "text": [
      "[400, 400, 1, 2, 3, 4, 5, 6, 7, 8, 9, 10, 115, 115]\n"
     ]
    }
   ],
   "source": [
    "list_numbers.insert(0, 400)\n",
    "list_numbers[0]\n",
    "\n",
    "print(list_numbers)"
   ]
  },
  {
   "cell_type": "markdown",
   "id": "92827047",
   "metadata": {},
   "source": [
    "Remoção de Elementos\n",
    "\n",
    "Remova elementos com del, remove() ou pop()."
   ]
  },
  {
   "cell_type": "code",
   "execution_count": 19,
   "id": "fc89e965",
   "metadata": {},
   "outputs": [],
   "source": [
    "list_numbers.remove(115)"
   ]
  },
  {
   "cell_type": "code",
   "execution_count": 20,
   "id": "d1176983",
   "metadata": {},
   "outputs": [],
   "source": [
    "list_numbers.remove(400)"
   ]
  },
  {
   "cell_type": "code",
   "execution_count": 21,
   "id": "d765a30c",
   "metadata": {},
   "outputs": [
    {
     "data": {
      "text/plain": [
       "[400, 1, 2, 3, 4, 5, 6, 7, 8, 9, 10]"
      ]
     },
     "execution_count": 21,
     "metadata": {},
     "output_type": "execute_result"
    }
   ],
   "source": [
    "list_numbers "
   ]
  },
  {
   "cell_type": "code",
   "execution_count": 23,
   "id": "9712f9a8",
   "metadata": {},
   "outputs": [
    {
     "data": {
      "text/plain": [
       "[1, 2, 3, 4, 5, 6, 7, 8, 9, 10]"
      ]
     },
     "execution_count": 23,
     "metadata": {},
     "output_type": "execute_result"
    }
   ],
   "source": [
    "del list_numbers[0]\n",
    "list_numbers"
   ]
  },
  {
   "cell_type": "code",
   "execution_count": 24,
   "id": "904203e3",
   "metadata": {},
   "outputs": [
    {
     "data": {
      "text/plain": [
       "10"
      ]
     },
     "execution_count": 24,
     "metadata": {},
     "output_type": "execute_result"
    }
   ],
   "source": [
    "list_numbers.pop()"
   ]
  },
  {
   "cell_type": "code",
   "execution_count": 25,
   "id": "d6ad3f87",
   "metadata": {},
   "outputs": [
    {
     "data": {
      "text/plain": [
       "[1, 2, 3, 4, 5, 6, 7, 8, 9]"
      ]
     },
     "execution_count": 25,
     "metadata": {},
     "output_type": "execute_result"
    }
   ],
   "source": [
    "list_numbers"
   ]
  },
  {
   "cell_type": "markdown",
   "id": "ab1d738c",
   "metadata": {},
   "source": [
    "Concatenação de Listas\n",
    "\n",
    "Concatene listas com o operador +."
   ]
  },
  {
   "cell_type": "code",
   "execution_count": 28,
   "id": "4ca918b5",
   "metadata": {},
   "outputs": [
    {
     "data": {
      "text/plain": [
       "[1, 2, 3, 4, 5, 6, 7, 8, 9, 10]"
      ]
     },
     "execution_count": 28,
     "metadata": {},
     "output_type": "execute_result"
    }
   ],
   "source": [
    "lst_impares = [1, 3, 5, 7, 9]\n",
    "lst_pares = [2, 4, 6, 8, 10]\n",
    "lst_conc = lst_impares + lst_pares\n",
    "lst_conc.sort()\n",
    "lst_conc\n",
    "\n"
   ]
  },
  {
   "cell_type": "markdown",
   "id": "f8662f31",
   "metadata": {},
   "source": [
    "Fatiamento (Slicing)\n",
    "\n",
    "Extraia partes da lista usando a notação de fatiamento."
   ]
  },
  {
   "cell_type": "code",
   "execution_count": 53,
   "id": "3c734408",
   "metadata": {},
   "outputs": [
    {
     "data": {
      "text/plain": [
       "10"
      ]
     },
     "execution_count": 53,
     "metadata": {},
     "output_type": "execute_result"
    }
   ],
   "source": [
    "lst_conc[-1] "
   ]
  },
  {
   "cell_type": "markdown",
   "id": "1432ca74",
   "metadata": {},
   "source": [
    "Ordenação\n",
    "\n",
    "Ordene os elementos de uma lista com sort() e inverta a ordem com reverse()."
   ]
  },
  {
   "cell_type": "code",
   "execution_count": 43,
   "id": "6e745735",
   "metadata": {},
   "outputs": [
    {
     "data": {
      "text/plain": [
       "[1, 2, 3, 4, 5, 6, 7, 8, 9, 10]"
      ]
     },
     "execution_count": 43,
     "metadata": {},
     "output_type": "execute_result"
    }
   ],
   "source": [
    "lst_conc.reverse()\n",
    "\n",
    "lst_conc\n"
   ]
  },
  {
   "cell_type": "markdown",
   "id": "ca5291b3",
   "metadata": {},
   "source": [
    "***"
   ]
  },
  {
   "cell_type": "markdown",
   "id": "9c92e7b9",
   "metadata": {},
   "source": [
    "##### Tupla (tuple)\n",
    "O tipo de dados tupla é utilizado para representar uma sequência **imutável** de valores. Uma tupla é criada colocando valores separados por vírgulas entre parênteses. Os valores podem ser de qualquer tipo.\n",
    "\n",
    "1. O uso de tuplas em Python é muito comum quando se deseja armazenar um conjunto de valores que não devem ser modificados.\n",
    "\n",
    "2. As tuplas são utilizadas em diversas situações, como por exemplo, na representação de coordenadas geográficas (latitude e longitude), na definição de cores em sistemas de design gráfico, na criação de jogos que requerem o armazenamento de posições de elementos em uma grade, entre outros."
   ]
  },
  {
   "cell_type": "markdown",
   "id": "6c221a6d",
   "metadata": {},
   "source": [
    "Criação de uma Tupla\n",
    "\n",
    "Para criar uma tupla, você pode usar parênteses e separar os elementos por vírgulas."
   ]
  },
  {
   "cell_type": "code",
   "execution_count": 56,
   "id": "f1958448",
   "metadata": {},
   "outputs": [
    {
     "data": {
      "text/plain": [
       "tuple"
      ]
     },
     "execution_count": 56,
     "metadata": {},
     "output_type": "execute_result"
    }
   ],
   "source": [
    "tupla_numbers = (1, 2, 3, 4, 5, 6, 7, 8, 9, 10)\n",
    "type(tupla_numbers)\n"
   ]
  },
  {
   "cell_type": "code",
   "execution_count": 58,
   "id": "87f45312",
   "metadata": {},
   "outputs": [
    {
     "name": "stdout",
     "output_type": "stream",
     "text": [
      "posição 0:  1\n",
      " posição -1: 10\n"
     ]
    }
   ],
   "source": [
    "print(\"posição 0: \", tupla_numbers[0])\n",
    "\n",
    "print(\" posição -1:\",tupla_numbers[-1])"
   ]
  },
  {
   "cell_type": "code",
   "execution_count": 60,
   "id": "73458b67",
   "metadata": {},
   "outputs": [
    {
     "data": {
      "text/plain": [
       "('Ana', 257)"
      ]
     },
     "execution_count": 60,
     "metadata": {},
     "output_type": "execute_result"
    }
   ],
   "source": [
    "tupla_nome = (\"Ana\", 257)\n",
    "tupla_nome"
   ]
  },
  {
   "cell_type": "code",
   "execution_count": 61,
   "id": "8794c7d0",
   "metadata": {},
   "outputs": [
    {
     "data": {
      "text/plain": [
       "[('Ana', 257), ('Bia', 300), ('Carlos', 150)]"
      ]
     },
     "execution_count": 61,
     "metadata": {},
     "output_type": "execute_result"
    }
   ],
   "source": [
    "lista_de_tuplas = [(\"Ana\", 257), (\"Bia\", 300), (\"Carlos\", 150)]\n",
    "lista_de_tuplas\n"
   ]
  },
  {
   "cell_type": "markdown",
   "id": "87d36d39",
   "metadata": {},
   "source": [
    "Acesso a Elementos\n",
    "\n",
    "Os elementos de uma tupla são acessados por índices, começando do 0."
   ]
  },
  {
   "cell_type": "code",
   "execution_count": 66,
   "id": "5a1c6e8f",
   "metadata": {},
   "outputs": [
    {
     "data": {
      "text/plain": [
       "('Ana', 257)"
      ]
     },
     "execution_count": 66,
     "metadata": {},
     "output_type": "execute_result"
    }
   ],
   "source": [
    "lista_de_tuplas[0]"
   ]
  },
  {
   "cell_type": "code",
   "execution_count": 67,
   "id": "dffed15f",
   "metadata": {},
   "outputs": [
    {
     "data": {
      "text/plain": [
       "('Bia', 300)"
      ]
     },
     "execution_count": 67,
     "metadata": {},
     "output_type": "execute_result"
    }
   ],
   "source": [
    "lista_de_tuplas[1]"
   ]
  },
  {
   "cell_type": "markdown",
   "id": "b1e648c5",
   "metadata": {},
   "source": [
    "Fatiamento (Slicing) de uma Tupla\n",
    "\n",
    "Você pode extrair partes de uma tupla usando a notação de fatiamento."
   ]
  },
  {
   "cell_type": "code",
   "execution_count": 68,
   "id": "f2f90a7f",
   "metadata": {},
   "outputs": [
    {
     "data": {
      "text/plain": [
       "[('Bia', 300), ('Carlos', 150)]"
      ]
     },
     "execution_count": 68,
     "metadata": {},
     "output_type": "execute_result"
    }
   ],
   "source": [
    "lista_de_tuplas[1:3]"
   ]
  },
  {
   "cell_type": "markdown",
   "id": "a78acac3",
   "metadata": {},
   "source": [
    "Concatenação de Tuplas\n",
    "\n",
    "Concatene tuplas usando o operador +."
   ]
  },
  {
   "cell_type": "code",
   "execution_count": 69,
   "id": "2cea697b",
   "metadata": {},
   "outputs": [
    {
     "data": {
      "text/plain": [
       "(2, 4, 6, 8, 10, 1, 3, 5, 7, 9)"
      ]
     },
     "execution_count": 69,
     "metadata": {},
     "output_type": "execute_result"
    }
   ],
   "source": [
    "tupla_numbers_pares = (2, 4, 6, 8, 10)\n",
    "tupla_numbers_impares = (1, 3, 5, 7, 9)\n",
    "conc_pares_impares = tupla_numbers_pares + tupla_numbers_impares\n",
    "conc_pares_impares\n",
    "\n",
    "#tupla_numbers_pares[0:3]"
   ]
  },
  {
   "cell_type": "markdown",
   "id": "32f53d2c",
   "metadata": {},
   "source": [
    "Imutabilidade\n",
    "\n",
    "Tentativas de modificar elementos de uma tupla resultarão em erro."
   ]
  },
  {
   "cell_type": "code",
   "execution_count": 70,
   "id": "32d496da",
   "metadata": {},
   "outputs": [
    {
     "ename": "TypeError",
     "evalue": "'tuple' object does not support item assignment",
     "output_type": "error",
     "traceback": [
      "\u001b[31m---------------------------------------------------------------------------\u001b[39m",
      "\u001b[31mTypeError\u001b[39m                                 Traceback (most recent call last)",
      "\u001b[36mCell\u001b[39m\u001b[36m \u001b[39m\u001b[32mIn[70]\u001b[39m\u001b[32m, line 1\u001b[39m\n\u001b[32m----> \u001b[39m\u001b[32m1\u001b[39m \u001b[43mconc_pares_impares\u001b[49m\u001b[43m[\u001b[49m\u001b[32;43m0\u001b[39;49m\u001b[43m]\u001b[49m = \u001b[32m20\u001b[39m\n",
      "\u001b[31mTypeError\u001b[39m: 'tuple' object does not support item assignment"
     ]
    }
   ],
   "source": [
    "conc_pares_impares[0] = 20"
   ]
  },
  {
   "cell_type": "markdown",
   "id": "c0b287a2",
   "metadata": {},
   "source": [
    "***"
   ]
  },
  {
   "cell_type": "markdown",
   "id": "03c3b87b",
   "metadata": {},
   "source": [
    "##### Dicionário (dict)\n",
    "O tipo de dado dicionário (dict) em Python é uma estrutura de dados que armazena valores em pares de chave-valor.\n",
    "\n",
    "Os dicionários em Python são estruturas de dados que permitem armazenar pares chave-valor, onde cada valor é associado a uma chave única. Eles são muito úteis para representar dados estruturados e indexados por chaves significativas, facilitando o acesso e a manipulação dos dados. Aqui estão algumas características importantes dos dicionários\n",
    "\n",
    "\n",
    "- Chaves Únicas: Cada chave em um dicionário é única, o que significa que não pode haver duas chaves iguais no mesmo dicionário. No entanto, os valores associados às chaves podem ser duplicados.\n",
    "\n",
    "- Mutabilidade: Os dicionários são mutáveis, o que significa que você pode adicionar, modificar e remover pares chave-valor após a criação do dicionário.\n",
    "\n",
    "- Flexibilidade: Os valores em um dicionário podem ser de qualquer tipo de dado, incluindo inteiros, strings, floats, listas, tuplas, conjuntos, outros dicionários e até mesmo funções.\n",
    "\n",
    "- Indexação por Chaves: Os elementos em um dicionário são acessados não por índices numéricos, como em listas e tuplas, mas sim por meio de chaves significativas."
   ]
  },
  {
   "cell_type": "markdown",
   "id": "ed0fcba8",
   "metadata": {},
   "source": [
    "Criação de um Dicionário\n",
    "\n",
    "Para criar um dicionário, você pode usar chaves {} e especificar pares chave-valor separados por vírgulas."
   ]
  },
  {
   "cell_type": "code",
   "execution_count": 79,
   "id": "795b7059",
   "metadata": {},
   "outputs": [
    {
     "data": {
      "text/plain": [
       "{'bom': 'ótimo', 'ruim': 'péssimo', 'feliz': 'contente', 'triste': 'deprimido'}"
      ]
     },
     "execution_count": 79,
     "metadata": {},
     "output_type": "execute_result"
    }
   ],
   "source": [
    "dic_sinomimos = {\n",
    "    \"bom\": \"ótimo\",\n",
    "    \"ruim\": \"péssimo\",\n",
    "    \"feliz\": \"contente\",\n",
    "    \"triste\": \"deprimido\"\n",
    "}\n",
    "\n",
    "dic_sinomimos"
   ]
  },
  {
   "cell_type": "code",
   "execution_count": 80,
   "id": "e31d1446",
   "metadata": {},
   "outputs": [
    {
     "data": {
      "text/plain": [
       "{'bom': 'ótimo',\n",
       " 'ruim': 'péssimo',\n",
       " 'feliz': 'contente',\n",
       " 'triste': 'deprimido',\n",
       " 'alegre': 'feliz'}"
      ]
     },
     "execution_count": 80,
     "metadata": {},
     "output_type": "execute_result"
    }
   ],
   "source": [
    "\n",
    "dic_sinomimos[\"alegre\"] = \"contente\"\n",
    "dic_sinomimos\n",
    "dic_sinomimos[\"alegre\"] = \"feliz\"\n",
    "\n",
    "dic_sinomimos"
   ]
  },
  {
   "cell_type": "markdown",
   "id": "790f178b",
   "metadata": {},
   "source": [
    "Acesso a Elementos por Chave\n",
    "\n",
    "Os elementos em um dicionário são acessados por suas chaves."
   ]
  },
  {
   "cell_type": "code",
   "execution_count": 76,
   "id": "2eb4efc1",
   "metadata": {},
   "outputs": [
    {
     "data": {
      "text/plain": [
       "'ótimo'"
      ]
     },
     "execution_count": 76,
     "metadata": {},
     "output_type": "execute_result"
    }
   ],
   "source": [
    "dic_sinomimos[\"bom\"]"
   ]
  },
  {
   "cell_type": "code",
   "execution_count": 77,
   "id": "b60493f3",
   "metadata": {},
   "outputs": [
    {
     "data": {
      "text/plain": [
       "'deprimido'"
      ]
     },
     "execution_count": 77,
     "metadata": {},
     "output_type": "execute_result"
    }
   ],
   "source": [
    "dic_sinomimos[\"triste\"]"
   ]
  },
  {
   "cell_type": "markdown",
   "id": "f535dbd5",
   "metadata": {},
   "source": [
    "Adição de Novos Pares Chave-Valor\n",
    "\n",
    "Você pode adicionar novos pares chave-valor a um dicionário atribuindo um valor a uma nova chave."
   ]
  },
  {
   "cell_type": "code",
   "execution_count": 82,
   "id": "140beb78",
   "metadata": {},
   "outputs": [
    {
     "data": {
      "text/plain": [
       "{'bom': 'ótimo',\n",
       " 'ruim': 'péssimo',\n",
       " 'feliz': 'contente',\n",
       " 'triste': 'deprimido',\n",
       " 'alegre': 'feliz',\n",
       " 'agradavel': 'simpático'}"
      ]
     },
     "execution_count": 82,
     "metadata": {},
     "output_type": "execute_result"
    }
   ],
   "source": [
    "dic_sinomimos[\"agradavel\"] = \"simpático\"\n",
    "dic_sinomimos\n"
   ]
  },
  {
   "cell_type": "code",
   "execution_count": 83,
   "id": "6ac9351b",
   "metadata": {},
   "outputs": [
    {
     "data": {
      "text/plain": [
       "{'bom': 'ótimo',\n",
       " 'ruim': 'horrível',\n",
       " 'feliz': 'contente',\n",
       " 'triste': 'deprimido',\n",
       " 'alegre': 'feliz',\n",
       " 'agradavel': 'simpático'}"
      ]
     },
     "execution_count": 83,
     "metadata": {},
     "output_type": "execute_result"
    }
   ],
   "source": [
    "dic_sinomimos[\"ruim\"] = \"horrível\"\n",
    "dic_sinomimos\n"
   ]
  },
  {
   "cell_type": "markdown",
   "id": "b3fff67b",
   "metadata": {},
   "source": [
    "Modificação de Valores de Chaves Existentes\n",
    "\n",
    "Você pode modificar o valor associado a uma chave existente atribuindo um novo valor a essa chave."
   ]
  },
  {
   "cell_type": "code",
   "execution_count": 85,
   "id": "83cb5c0d",
   "metadata": {},
   "outputs": [],
   "source": [
    "dic_sinomimos[\"bom\"] = \"ótimo\""
   ]
  },
  {
   "cell_type": "code",
   "execution_count": 86,
   "id": "8dcd3d7f",
   "metadata": {},
   "outputs": [
    {
     "data": {
      "text/plain": [
       "{'bom': 'ótimo',\n",
       " 'ruim': 'horrível',\n",
       " 'feliz': 'contente',\n",
       " 'alegre': 'feliz',\n",
       " 'agradavel': 'simpático'}"
      ]
     },
     "execution_count": 86,
     "metadata": {},
     "output_type": "execute_result"
    }
   ],
   "source": [
    "dic_sinomimos  "
   ]
  },
  {
   "cell_type": "markdown",
   "id": "b8fd11ef",
   "metadata": {},
   "source": [
    "Remoção de Pares Chave-Valor\n",
    "\n",
    "Você pode remover pares chave-valor de um dicionário usando o comando del seguido da chave que deseja remover."
   ]
  },
  {
   "cell_type": "code",
   "execution_count": 84,
   "id": "9231a592",
   "metadata": {},
   "outputs": [
    {
     "data": {
      "text/plain": [
       "{'bom': 'ótimo',\n",
       " 'ruim': 'horrível',\n",
       " 'feliz': 'contente',\n",
       " 'alegre': 'feliz',\n",
       " 'agradavel': 'simpático'}"
      ]
     },
     "execution_count": 84,
     "metadata": {},
     "output_type": "execute_result"
    }
   ],
   "source": [
    "del dic_sinomimos[\"triste\"]\n",
    "dic_sinomimos\n"
   ]
  },
  {
   "cell_type": "markdown",
   "id": "7d1387c8",
   "metadata": {},
   "source": [
    "Iteração sobre Chaves e Valores\n",
    "\n",
    "Você pode iterar sobre as chaves, os valores ou ambos em um dicionário usando loops for."
   ]
  },
  {
   "cell_type": "code",
   "execution_count": 87,
   "id": "3282f4ae",
   "metadata": {},
   "outputs": [
    {
     "name": "stdout",
     "output_type": "stream",
     "text": [
      "bom : ótimo\n",
      "ruim : horrível\n",
      "feliz : contente\n",
      "alegre : feliz\n",
      "agradavel : simpático\n"
     ]
    }
   ],
   "source": [
    "for chave in dic_sinomimos:\n",
    "    print(chave, \":\", dic_sinomimos[chave])\n",
    "    \n"
   ]
  },
  {
   "cell_type": "code",
   "execution_count": 88,
   "id": "e84d329b",
   "metadata": {},
   "outputs": [
    {
     "name": "stdout",
     "output_type": "stream",
     "text": [
      "bom\n",
      "ruim\n",
      "feliz\n",
      "alegre\n",
      "agradavel\n"
     ]
    }
   ],
   "source": [
    "for chave in dic_sinomimos:\n",
    "    print(chave)"
   ]
  },
  {
   "cell_type": "code",
   "execution_count": 89,
   "id": "cd6c9778",
   "metadata": {},
   "outputs": [
    {
     "name": "stdout",
     "output_type": "stream",
     "text": [
      "ótimo\n",
      "horrível\n",
      "contente\n",
      "feliz\n",
      "simpático\n"
     ]
    }
   ],
   "source": [
    "for valor in dic_sinomimos.values():\n",
    "    print(valor)"
   ]
  },
  {
   "cell_type": "code",
   "execution_count": null,
   "id": "145408c0",
   "metadata": {},
   "outputs": [],
   "source": []
  },
  {
   "cell_type": "markdown",
   "id": "a47db563",
   "metadata": {},
   "source": [
    "Criando uma lista de dicionários\n",
    "\n",
    "As listas de dicionários são úteis para armazenar e manipular coleções de registros com vários campos. Elas podem ser usadas em muitas aplicações, como por exemplo:\n",
    "\n",
    "* Banco de dados em memória: podem ser usadas para armazenar dados em memória, como se fosse um banco de dados.\n",
    "* Análise de dados: podem ser usadas para armazenar dados de pesquisa, tais como resultados de experimentos científicos ou pesquisas de mercado.\n",
    "* Processamento de texto: podem ser usadas para armazenar dados de texto, atis como resultados de análise de sentimento ou de mineração de dados.\n",
    "* Configurações de aplicativos: podem ser uadas para armazenar configurações de aplicativos e preferências de usuário.\n"
   ]
  },
  {
   "cell_type": "code",
   "execution_count": 91,
   "id": "ac1af395",
   "metadata": {},
   "outputs": [],
   "source": [
    "lista_dicionarios = []\n",
    "\n",
    "people_1 =  {\n",
    "    \"nome\": \"Ana\", \n",
    "    \"idade\": 25, \n",
    "    \"cidade\": \"São Paulo\"\n",
    "}\n",
    "\n",
    "people_2 =  {\n",
    "    \"nome\": \"Bia\", \n",
    "    \"idade\": 30, \n",
    "    \"cidade\": \"Rio de Janeiro\"\n",
    "}\n",
    "\n",
    "people_3 =  {\n",
    "    \"nome\": \"Carlos\", \n",
    "    \"idade\": 28, \n",
    "    \"cidade\": \"Belo Horizonte\"\n",
    "}"
   ]
  },
  {
   "cell_type": "code",
   "execution_count": null,
   "id": "ca299dff",
   "metadata": {},
   "outputs": [
    {
     "name": "stdout",
     "output_type": "stream",
     "text": [
      "[{'nome': 'Ana', 'idade': 25, 'cidade': 'São Paulo'}]\n"
     ]
    }
   ],
   "source": [
    "lista_dicionarios.append(people_1)\n",
    "print(lista_dicionarios)\n"
   ]
  },
  {
   "cell_type": "code",
   "execution_count": null,
   "id": "04084541",
   "metadata": {},
   "outputs": [
    {
     "data": {
      "text/plain": [
       "[{'nome': 'Ana', 'idade': 25, 'cidade': 'São Paulo'},\n",
       " {'nome': 'Bia', 'idade': 30, 'cidade': 'Rio de Janeiro'}]"
      ]
     },
     "execution_count": 93,
     "metadata": {},
     "output_type": "execute_result"
    }
   ],
   "source": [
    "lista_dicionarios.append(people_2)\n",
    "lista_dicionarios\n",
    " "
   ]
  },
  {
   "cell_type": "code",
   "execution_count": 94,
   "id": "92310792",
   "metadata": {},
   "outputs": [
    {
     "data": {
      "text/plain": [
       "[{'nome': 'Ana', 'idade': 25, 'cidade': 'São Paulo'},\n",
       " {'nome': 'Bia', 'idade': 30, 'cidade': 'Rio de Janeiro'},\n",
       " {'nome': 'Carlos', 'idade': 28, 'cidade': 'Belo Horizonte'}]"
      ]
     },
     "execution_count": 94,
     "metadata": {},
     "output_type": "execute_result"
    }
   ],
   "source": [
    "lista_dicionarios.append(people_3)\n",
    "lista_dicionarios\n"
   ]
  },
  {
   "cell_type": "code",
   "execution_count": 96,
   "id": "a659a44a",
   "metadata": {},
   "outputs": [
    {
     "data": {
      "text/plain": [
       "{'nome': 'Bia', 'idade': 30, 'cidade': 'Rio de Janeiro'}"
      ]
     },
     "execution_count": 96,
     "metadata": {},
     "output_type": "execute_result"
    }
   ],
   "source": [
    "lista_dicionarios[1]"
   ]
  },
  {
   "cell_type": "markdown",
   "id": "1c4199cb",
   "metadata": {},
   "source": [
    "Alterando valor em uma lista de dicionário"
   ]
  },
  {
   "cell_type": "code",
   "execution_count": 97,
   "id": "07fcf039",
   "metadata": {},
   "outputs": [
    {
     "data": {
      "text/plain": [
       "{'nome': 'Bia', 'idade': 30, 'cidade': 'Rio de Janeiro', 'estado': 'RJ'}"
      ]
     },
     "execution_count": 97,
     "metadata": {},
     "output_type": "execute_result"
    }
   ],
   "source": [
    "lista_dicionarios[1]['estado']  = \"RJ\"\n",
    "lista_dicionarios[1]"
   ]
  },
  {
   "cell_type": "code",
   "execution_count": 98,
   "id": "b9908905",
   "metadata": {},
   "outputs": [
    {
     "data": {
      "text/plain": [
       "[{'nome': 'Ana', 'idade': 25, 'cidade': 'São Paulo'},\n",
       " {'nome': 'Bia', 'idade': 30, 'cidade': 'Rio de Janeiro', 'estado': 'RJ'},\n",
       " {'nome': 'Carlos', 'idade': 28, 'cidade': 'Belo Horizonte'}]"
      ]
     },
     "execution_count": 98,
     "metadata": {},
     "output_type": "execute_result"
    }
   ],
   "source": [
    "lista_dicionarios"
   ]
  },
  {
   "cell_type": "code",
   "execution_count": 99,
   "id": "cbfbcafa",
   "metadata": {},
   "outputs": [
    {
     "data": {
      "text/plain": [
       "[{'nome': 'Ana',\n",
       "  'idade': 25,\n",
       "  'cidade': 'São Paulo',\n",
       "  'contato': [83837000, 83837001]},\n",
       " {'nome': 'Bia', 'idade': 30, 'cidade': 'Rio de Janeiro', 'estado': 'RJ'},\n",
       " {'nome': 'Carlos', 'idade': 28, 'cidade': 'Belo Horizonte'}]"
      ]
     },
     "execution_count": 99,
     "metadata": {},
     "output_type": "execute_result"
    }
   ],
   "source": [
    "lista_dicionarios[0]['contato'] = [83837000, 83837001]\n",
    "lista_dicionarios\n"
   ]
  }
 ],
 "metadata": {
  "kernelspec": {
   "display_name": "modulo_1",
   "language": "python",
   "name": "python3"
  },
  "language_info": {
   "codemirror_mode": {
    "name": "ipython",
    "version": 3
   },
   "file_extension": ".py",
   "mimetype": "text/x-python",
   "name": "python",
   "nbconvert_exporter": "python",
   "pygments_lexer": "ipython3",
   "version": "3.11.2"
  }
 },
 "nbformat": 4,
 "nbformat_minor": 5
}

{
 "cells": [
  {
   "cell_type": "markdown",
   "id": "592f918a",
   "metadata": {},
   "source": [
    "# Estruturas de controle\n",
    "****\n",
    "\n",
    "As estruturas de controle são essenciais em programação para controlar o fluxo de execução do código. Duas das estruturas mais fundamentais são as estruturas condicionais e de repetição."
   ]
  },
  {
   "cell_type": "markdown",
   "id": "7eb794f2",
   "metadata": {},
   "source": [
    "### Estruturas Condicionais\n",
    "As estruturas condicionais permitem que um programa tome decisões com base em condições específicas. Em Python, a estrutura condicional básica é o if, que pode ser estendido com elif e else para lidar com múltiplas condições."
   ]
  },
  {
   "cell_type": "markdown",
   "id": "9ac8dd15",
   "metadata": {},
   "source": [
    "Exemplo 1: Verificação de Idade para Entrada em um Bar"
   ]
  },
  {
   "cell_type": "code",
   "execution_count": 2,
   "id": "e970def1",
   "metadata": {},
   "outputs": [
    {
     "name": "stdout",
     "output_type": "stream",
     "text": [
      "Você é maior de idade.\n"
     ]
    }
   ],
   "source": [
    "idade = int(input(\"Digite sua idade: \"))\n",
    "if idade >= 18:\n",
    "    print(\"Você é maior de idade.\") \n",
    "else:\n",
    "    print(\"Você é menor de idade.\") \n"
   ]
  },
  {
   "cell_type": "markdown",
   "id": "8c828ce2",
   "metadata": {},
   "source": [
    "Exemplo 2: Classificação de Números"
   ]
  },
  {
   "cell_type": "code",
   "execution_count": 5,
   "id": "dd9ad2db",
   "metadata": {},
   "outputs": [
    {
     "name": "stdout",
     "output_type": "stream",
     "text": [
      "O número é negativo.\n"
     ]
    }
   ],
   "source": [
    "numero = int(input(\"Digite um número inteiro: \"))\n",
    "\n",
    "if numero > 0:\n",
    "    print(\"O número é positivo.\")\n",
    "elif numero < 0:\n",
    "    print(\"O número é negativo.\")\n",
    "else:\n",
    "    print(\"O número é zero.\")   \n"
   ]
  },
  {
   "cell_type": "markdown",
   "id": "acec2ede",
   "metadata": {},
   "source": [
    "### Estruturas de Repetição\n",
    "As estruturas de repetição permitem que um conjunto de instruções seja executado repetidamente enquanto uma condição é verdadeira. Em Python, temos os loops for e while."
   ]
  },
  {
   "cell_type": "markdown",
   "id": "2528a127",
   "metadata": {},
   "source": [
    "Exemplo 1: Impressão de Números Pares com Loop For"
   ]
  },
  {
   "cell_type": "code",
   "execution_count": 10,
   "id": "c5e4b5bb",
   "metadata": {},
   "outputs": [
    {
     "name": "stdout",
     "output_type": "stream",
     "text": [
      "1\n",
      "2\n",
      "3\n",
      "4\n",
      "5\n",
      "6\n",
      "7\n",
      "8\n",
      "9\n",
      "10\n",
      "-----imprimir letras-----\n",
      "P\n",
      "y\n",
      "t\n",
      "h\n",
      "o\n",
      "n\n"
     ]
    }
   ],
   "source": [
    "\n",
    "print\n",
    "for numero in range(1, 11):\n",
    "    print(numero)\n",
    "\n",
    "print(\"-----imprimir letras-----\")\n",
    "\n",
    "for letra in \"Python\":\n",
    "    print(letra)"
   ]
  },
  {
   "cell_type": "markdown",
   "id": "141dfc44",
   "metadata": {},
   "source": [
    "Exemplo 2: Impressão de tarefas em uma lista"
   ]
  },
  {
   "cell_type": "code",
   "execution_count": 12,
   "id": "6162ba68",
   "metadata": {},
   "outputs": [
    {
     "name": "stdout",
     "output_type": "stream",
     "text": [
      "Derpertar 0600\n",
      "Estudar\n",
      "Exercitar\n",
      "Ler\n",
      "Cozinhar\n",
      "Trabalhar\n",
      "Dormir 2200\n"
     ]
    }
   ],
   "source": [
    "lista_atividades = [\"Derpertar 0600\", \"Estudar\", \"Exercitar\", \"Ler\", \"Cozinhar\", \"Trabalhar\", \"Dormir 2200\"]\n",
    "for atividade in lista_atividades:\n",
    "    print(atividade)    \n"
   ]
  },
  {
   "cell_type": "markdown",
   "id": "b32d481d",
   "metadata": {},
   "source": [
    "Exemplo 3: Impressão de tarefas em uma lista com indice"
   ]
  },
  {
   "cell_type": "code",
   "execution_count": 15,
   "id": "11a9160a",
   "metadata": {},
   "outputs": [
    {
     "name": "stdout",
     "output_type": "stream",
     "text": [
      "1 - Derpertar 0600\n",
      "2 - Estudar\n",
      "3 - Exercitar\n",
      "4 - Ler\n",
      "5 - Cozinhar\n",
      "6 - Trabalhar\n",
      "7 - Dormir 2200\n"
     ]
    }
   ],
   "source": [
    "for indice, atividade in enumerate(lista_atividades, start=1):\n",
    "    print(f\"{indice} - {atividade}\")    "
   ]
  },
  {
   "cell_type": "markdown",
   "id": "c109d5ac",
   "metadata": {},
   "source": [
    "Exemplo 4: Impressão de dados em dicionário"
   ]
  },
  {
   "cell_type": "code",
   "execution_count": 20,
   "id": "ceb11fd4",
   "metadata": {},
   "outputs": [],
   "source": [
    "dicionario_home = {\n",
    "    'nome': 'João', \n",
    "    'idade': 30, \n",
    "    'profissão': 'Engenheiro', \n",
    "    'cidade': 'São Paulo',\n",
    "    'estado': 'SP',\n",
    "    'cep' : '01234-567',\n",
    "    'bairro' : 'Centro ',\n",
    "    'rua'   : 'Rua A',\n",
    "    'numero': 100   \n",
    "}\n",
    "\n",
    " "
   ]
  },
  {
   "cell_type": "code",
   "execution_count": 21,
   "id": "adee4a74",
   "metadata": {},
   "outputs": [
    {
     "name": "stdout",
     "output_type": "stream",
     "text": [
      "nome: João\n",
      "idade: 30\n",
      "profissão: Engenheiro\n",
      "cidade: São Paulo\n",
      "estado: SP\n",
      "cep: 01234-567\n",
      "bairro: Centro \n",
      "rua: Rua A\n",
      "numero: 100\n"
     ]
    }
   ],
   "source": [
    "for chave, valor in dicionario_home.items():\n",
    "    print(f\"{chave}: {valor}\")   "
   ]
  },
  {
   "cell_type": "markdown",
   "id": "bc649db7",
   "metadata": {},
   "source": [
    "Exemplo 5: Impressão de dados em uma lista de dicionários"
   ]
  },
  {
   "cell_type": "code",
   "execution_count": null,
   "id": "2a0239ba",
   "metadata": {},
   "outputs": [],
   "source": [
    "lista_dicionarios = [ \n",
    "  {'nome': 'João', 'idade': 30, 'profissão': 'Engenheiro', 'cidade': 'São Paulo', 'estado': 'SP', 'cep' : '01234-567', 'bairro' : 'Centro ', 'rua' : 'Rua A',    'numero': 100,\n",
    "  'complemento': 'Apto 101'},\n",
    "  {'nome': 'Maria', 'idade': 25, 'profissão': 'Médica', 'cidade': 'Rio de Janeiro', 'estado': 'RJ', 'cep' : '23456-789', 'bairro' : 'Copacabana', 'rua'   : 'Rua B', 'numero': 200,\n",
    "  'complemento': 'Apto 202'},\n",
    "  {'nome': 'Pedro', 'idade': 28, 'profissão': 'Professor', 'cidade': 'Belo Horizonte',  'estado': 'MG', 'cep' : '34567-890', 'bairro' : 'Savassi', 'rua': 'Rua C', 'numero': 300,\n",
    "  'complemento': 'Apto 303'} \n",
    "]"
   ]
  },
  {
   "cell_type": "code",
   "execution_count": 25,
   "id": "c7780d70",
   "metadata": {},
   "outputs": [
    {
     "name": "stdout",
     "output_type": "stream",
     "text": [
      "1: {'nome': 'João', 'idade': 30, 'profissão': 'Engenheiro', 'cidade': 'São Paulo', 'estado': 'SP', 'cep': '01234-567', 'bairro': 'Centro ', 'rua': 'Rua A', 'numero': 100, 'complemento': 'Apto 101'}\n",
      "2: {'nome': 'Maria', 'idade': 25, 'profissão': 'Médica', 'cidade': 'Rio de Janeiro', 'estado': 'RJ', 'cep': '23456-789', 'bairro': 'Copacabana', 'rua': 'Rua B', 'numero': 200, 'complemento': 'Apto 202'}\n",
      "3: {'nome': 'Pedro', 'idade': 28, 'profissão': 'Professor', 'cidade': 'Belo Horizonte', 'estado': 'MG', 'cep': '34567-890', 'bairro': 'Savassi', 'rua': 'Rua C', 'numero': 300, 'complemento': 'Apto 303'}\n"
     ]
    }
   ],
   "source": [
    "for chave, valor in enumerate(lista_dicionarios, start=1):\n",
    "    print(f\"{chave}: {valor}\")  \n"
   ]
  },
  {
   "cell_type": "code",
   "execution_count": 29,
   "id": "de30b874",
   "metadata": {},
   "outputs": [
    {
     "name": "stdout",
     "output_type": "stream",
     "text": [
      "\n",
      "          Indice:      1\n",
      "          Nome:        João\n",
      "          Idade:       30\n",
      "          Profissão:   Engenheiro\n",
      "          Cidade:      São Paulo\n",
      "          Estado:      SP\n",
      "          CEP:         01234-567\n",
      "          Bairro:      Centro \n",
      "          Rua:         Rua A\n",
      "          Número:      100\n",
      "          Complemento: Apto 101   \n",
      "          \n",
      "\n",
      "          Indice:      2\n",
      "          Nome:        Maria\n",
      "          Idade:       25\n",
      "          Profissão:   Médica\n",
      "          Cidade:      Rio de Janeiro\n",
      "          Estado:      RJ\n",
      "          CEP:         23456-789\n",
      "          Bairro:      Copacabana\n",
      "          Rua:         Rua B\n",
      "          Número:      200\n",
      "          Complemento: Apto 202   \n",
      "          \n",
      "\n",
      "          Indice:      3\n",
      "          Nome:        Pedro\n",
      "          Idade:       28\n",
      "          Profissão:   Professor\n",
      "          Cidade:      Belo Horizonte\n",
      "          Estado:      MG\n",
      "          CEP:         34567-890\n",
      "          Bairro:      Savassi\n",
      "          Rua:         Rua C\n",
      "          Número:      300\n",
      "          Complemento: Apto 303   \n",
      "          \n"
     ]
    }
   ],
   "source": [
    "for chave, valor in enumerate(lista_dicionarios, start=1):\n",
    "    print(f'''\n",
    "          Indice:      {chave}\n",
    "          Nome:        {valor['nome']}\n",
    "          Idade:       {valor['idade']}\n",
    "          Profissão:   {valor['profissão']}\n",
    "          Cidade:      {valor['cidade']}\n",
    "          Estado:      {valor['estado']}\n",
    "          CEP:         {valor['cep']}\n",
    "          Bairro:      {valor['bairro']}\n",
    "          Rua:         {valor['rua']}\n",
    "          Número:      {valor['numero']}\n",
    "          Complemento: {valor['complemento']}   \n",
    "          ''')"
   ]
  },
  {
   "cell_type": "markdown",
   "id": "e3130e7a",
   "metadata": {},
   "source": [
    "Exemplo 6: Soma dos Números de 1 a 10 com Loop While:"
   ]
  },
  {
   "cell_type": "code",
   "execution_count": 30,
   "id": "2a5851f7",
   "metadata": {},
   "outputs": [
    {
     "name": "stdout",
     "output_type": "stream",
     "text": [
      "55\n"
     ]
    }
   ],
   "source": [
    "resultado = 0\n",
    "contador = 1\n",
    "\n",
    "while contador <= 10:\n",
    "    resultado += contador\n",
    "    contador += 1   \n",
    "print(resultado)\n"
   ]
  },
  {
   "cell_type": "markdown",
   "id": "fb682bc9",
   "metadata": {},
   "source": [
    "Exemplo 7: Busca em uma Lista com Loop For:"
   ]
  },
  {
   "cell_type": "code",
   "execution_count": 33,
   "metadata": {},
   "outputs": [
    {
     "name": "stdout",
     "output_type": "stream",
     "text": [
      "ana foi encontrado na lista.\n"
     ]
    }
   ],
   "source": [
    "lista_nomes = [\"Ana\", \"Bruno\", \"Carlos\", \"Diana\"]\n",
    "buscar_nome = input(\"Digite um nome para buscar: \")\n",
    "\n",
    "encontrado = False\n",
    "\n",
    "for nome in lista_nomes:\n",
    "    if nome.lower() == buscar_nome.lower():\n",
    "        encontrado = True\n",
    "        break   \n",
    "if encontrado:\n",
    "    print(f\"{buscar_nome} foi encontrado na lista.\")\n",
    "else:\n",
    "    print(f\"{buscar_nome} não foi encontrado na lista.\")\n"
   ]
  },
  {
   "cell_type": "markdown",
   "id": "4db8b719",
   "metadata": {},
   "source": [
    "Exemplo 8: Compreensão de Listas (List Comprehension)\n",
    "\n",
    "A compreensão de listas é uma maneira concisa de criar listas em Python, geralmente usando loops for. Ela permite criar listas de forma mais eficiente e legível."
   ]
  },
  {
   "cell_type": "code",
   "execution_count": 34,
   "id": "3e956543",
   "metadata": {},
   "outputs": [
    {
     "name": "stdout",
     "output_type": "stream",
     "text": [
      "[0, 2, 4, 6, 8, 10, 12, 14, 16, 18, 20, 22, 24, 26, 28, 30, 32, 34, 36, 38, 40, 42, 44, 46, 48, 50, 52, 54, 56, 58, 60, 62, 64, 66, 68, 70, 72, 74, 76, 78, 80, 82, 84, 86, 88, 90, 92, 94, 96, 98]\n"
     ]
    }
   ],
   "source": [
    "lista_numeros_pares = []  \n",
    "for numero in range(100):\n",
    "    if numero % 2 == 0:\n",
    "        lista_numeros_pares.append(numero)\n",
    "\n",
    "print(lista_numeros_pares)"
   ]
  },
  {
   "cell_type": "markdown",
   "id": "4593d55c",
   "metadata": {},
   "source": [
    "### Controle de exceção try-except\n",
    "Ele é usado para lidar com exceções (erros) que podem ocorrer durante a execução do código. A estrutura try-except permite que você controle o fluxo do programa, capturando exceções específicas e tratando-as de maneira apropriada, evitando interrupções inesperadas na execução do código."
   ]
  },
  {
   "cell_type": "markdown",
   "id": "b0dd314d",
   "metadata": {},
   "source": [
    "Exemplo 1: Divisão por zero"
   ]
  },
  {
   "cell_type": "code",
   "execution_count": 37,
   "id": "7dcb1b13",
   "metadata": {},
   "outputs": [
    {
     "name": "stdout",
     "output_type": "stream",
     "text": [
      "Erro: Divisão por zero não é permitida.\n"
     ]
    }
   ],
   "source": [
    "try:\n",
    "    numero = int(input(\"Digite um número inteiro: \"))\n",
    "    result = numero / 0 \n",
    "except ValueError:\n",
    "    print(\"Erro: Você deve digitar um número inteiro válido.\")  \n",
    "except ZeroDivisionError:\n",
    "    print(\"Erro: Divisão por zero não é permitida.\")        \n",
    "\n",
    "\n"
   ]
  },
  {
   "cell_type": "markdown",
   "id": "7ec20769",
   "metadata": {},
   "source": [
    "Exemplo 2: Soma de tipos de dados diferentes"
   ]
  },
  {
   "cell_type": "code",
   "execution_count": 39,
   "id": "6f0a5153",
   "metadata": {},
   "outputs": [
    {
     "name": "stdout",
     "output_type": "stream",
     "text": [
      "Erro inesperado: unsupported operand type(s) for +: 'int' and 'str'\n"
     ]
    }
   ],
   "source": [
    "try:\n",
    "    10 + 'texto'\n",
    "except Exception as e:\n",
    "    print(f\"Erro inesperado: {e}\")  \n"
   ]
  },
  {
   "cell_type": "code",
   "execution_count": 42,
   "id": "3a7ae790",
   "metadata": {},
   "outputs": [
    {
     "data": {
      "text/plain": [
       "list"
      ]
     },
     "execution_count": 42,
     "metadata": {},
     "output_type": "execute_result"
    }
   ],
   "source": [
    "lst_numbers = [1, 2, 3, 4, 5, 6, 7, 8, 9, 10]\n",
    "type(lst_numbers)"
   ]
  },
  {
   "cell_type": "code",
   "execution_count": 41,
   "id": "f35dff41",
   "metadata": {},
   "outputs": [
    {
     "data": {
      "text/plain": [
       "1"
      ]
     },
     "execution_count": 41,
     "metadata": {},
     "output_type": "execute_result"
    }
   ],
   "source": [
    "lst_numbers[0]"
   ]
  },
  {
   "cell_type": "code",
   "execution_count": 43,
   "id": "846430d0",
   "metadata": {},
   "outputs": [
    {
     "data": {
      "text/plain": [
       "10"
      ]
     },
     "execution_count": 43,
     "metadata": {},
     "output_type": "execute_result"
    }
   ],
   "source": [
    "lst_numbers[-1]"
   ]
  },
  {
   "cell_type": "code",
   "execution_count": null,
   "id": "0d59bbec",
   "metadata": {},
   "outputs": [],
   "source": []
  }
 ],
 "metadata": {
  "kernelspec": {
   "display_name": "modulo_1",
   "language": "python",
   "name": "python3"
  },
  "language_info": {
   "codemirror_mode": {
    "name": "ipython",
    "version": 3
   },
   "file_extension": ".py",
   "mimetype": "text/x-python",
   "name": "python",
   "nbconvert_exporter": "python",
   "pygments_lexer": "ipython3",
   "version": "3.11.2"
  }
 },
 "nbformat": 4,
 "nbformat_minor": 5
}

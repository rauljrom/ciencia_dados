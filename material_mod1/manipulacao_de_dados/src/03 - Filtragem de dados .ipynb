{
 "cells": [
  {
   "cell_type": "markdown",
   "id": "f3f2076e",
   "metadata": {},
   "source": [
    "#### Filtragem de dados \n",
    "***\n",
    "\n",
    "A filtragem de dados é uma das tarefas mais importantes e comuns na análise de dados, e o pandas é uma das bibliotecas mais utilizadas para essa tarefa. A filtragem de dados permite selecionar apenas as informações relevantes de um conjunto de dados, eliminando o ruído e tornando a análise mais precisa e eficiente.\n",
    "\n",
    "A filtragem de dados pode ser usada para vários fins, como encontrar valores específicos, remover dados redundantes ou obsoletos, selecionar subconjuntos de dados para análise mais aprofundada e assim por diante. Também é útil para preparar dados para modelagem e visualização, tornando a análise mais precisa e informativa.\n",
    "\n",
    "Além disso, a filtragem de dados é especialmente útil para análise exploratória de dados, onde o objetivo é explorar o conjunto de dados para descobrir padrões, tendências e outras informações importantes. A filtragem de dados permite que os analistas de dados se concentrem nas informações relevantes e descartem os dados desnecessários, tornando a análise mais fácil e eficiente."
   ]
  },
  {
   "cell_type": "markdown",
   "id": "6072fe86",
   "metadata": {},
   "source": [
    "#### Importação das bibliotecas\n"
   ]
  },
  {
   "cell_type": "code",
   "execution_count": null,
   "id": "f42670ce",
   "metadata": {},
   "outputs": [],
   "source": []
  },
  {
   "cell_type": "markdown",
   "id": "4fb0a7b0",
   "metadata": {},
   "source": [
    "#### Coletando Dados de Perfil\n",
    "***"
   ]
  },
  {
   "cell_type": "code",
   "execution_count": null,
   "id": "7de34ebb",
   "metadata": {},
   "outputs": [],
   "source": [
    "# Criando um dataframe a partir de uma lista de listas\n"
   ]
  },
  {
   "cell_type": "markdown",
   "id": "6c326736",
   "metadata": {},
   "source": [
    "### Método query\n",
    "***\n",
    "Permite selecionar subconjuntos de dados baseados em condições definidas por uma expressão. A expressão pode conter operadores lógicos e aritméticos e pode fazer referência a colunas do dataframe.\n",
    "\n",
    "#### Selecionando todas as linhas em que a idade é maior que 30 anos."
   ]
  },
  {
   "cell_type": "code",
   "execution_count": null,
   "id": "01f887f7",
   "metadata": {},
   "outputs": [],
   "source": []
  },
  {
   "cell_type": "markdown",
   "id": "6e676fb7",
   "metadata": {},
   "source": [
    "#### Selecionando todas as linhas em que a idade é acima de 30 anos e a pessoa é solteira."
   ]
  },
  {
   "cell_type": "code",
   "execution_count": null,
   "id": "78a20a7e",
   "metadata": {},
   "outputs": [],
   "source": []
  },
  {
   "cell_type": "markdown",
   "id": "1213f576",
   "metadata": {},
   "source": [
    "### Método isin \n",
    "***\n",
    "Permite selecionar subconjuntos de dados baseados em uma lista de valores. É útil quando se deseja selecionar linhas onde uma coluna específica tem um valor que corresponde a um dos valores da lista. \n",
    "\n",
    "#### Selecionando todas as linhas em que os anos de estudo são 1 ou 5."
   ]
  },
  {
   "cell_type": "code",
   "execution_count": null,
   "id": "1b1de5ff",
   "metadata": {},
   "outputs": [],
   "source": []
  },
  {
   "cell_type": "markdown",
   "id": "43d7c974",
   "metadata": {},
   "source": [
    "#### Selecionando todas as linhas que contêm as regiões 'Nordeste', 'Sul' ou 'Sudeste'"
   ]
  },
  {
   "cell_type": "code",
   "execution_count": null,
   "id": "36c84220",
   "metadata": {},
   "outputs": [],
   "source": []
  }
 ],
 "metadata": {
  "kernelspec": {
   "display_name": "pucminas",
   "language": "python",
   "name": "python3"
  },
  "language_info": {
   "codemirror_mode": {
    "name": "ipython",
    "version": 3
   },
   "file_extension": ".py",
   "mimetype": "text/x-python",
   "name": "python",
   "nbconvert_exporter": "python",
   "pygments_lexer": "ipython3",
   "version": "3.11.0"
  }
 },
 "nbformat": 4,
 "nbformat_minor": 5
}

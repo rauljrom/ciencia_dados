{
 "cells": [
  {
   "cell_type": "markdown",
   "id": "f3f2076e",
   "metadata": {},
   "source": [
    "#### Agrupamento e Resumo de Dados\n",
    "***\n",
    "\n",
    "O agrupamento e resumo de dados são etapas essenciais na análise de dados, permitindo extrair informações úteis e insights valiosos a partir de conjuntos de dados complexos. Essas técnicas nos permitem organizar, resumir e comparar os dados com base em categorias ou critérios específicos.\n"
   ]
  },
  {
   "cell_type": "markdown",
   "id": "6072fe86",
   "metadata": {},
   "source": [
    "#### Importação das Bibliotecas\n"
   ]
  },
  {
   "cell_type": "code",
   "execution_count": 1,
   "id": "f42670ce",
   "metadata": {},
   "outputs": [],
   "source": [
    "import pandas as pd\n"
   ]
  },
  {
   "cell_type": "markdown",
   "id": "3681ec36",
   "metadata": {},
   "source": [
    "#### Coletando Dados de Perfil\n",
    "***"
   ]
  },
  {
   "cell_type": "code",
   "execution_count": 4,
   "id": "7edef8b5",
   "metadata": {},
   "outputs": [],
   "source": [
    "df = pd.read_csv('../../source_data/perfil_clientes.csv', sep=';')\n"
   ]
  },
  {
   "cell_type": "markdown",
   "id": "6c326736",
   "metadata": {},
   "source": [
    "#### Método groupby\n",
    "***\n",
    "Uma das principais ferramentas utilizadas para agrupar e resumir dados no pandas, uma biblioteca popular do Python para análise de dados, é o método groupby. Esse método permite agrupar os dados com base em uma ou mais colunas, criando grupos que compartilham características comuns. Em seguida, podemos aplicar funções de agregação aos grupos para resumir os dados, como contar, somar, calcular média, máximo, mínimo, entre outros."
   ]
  },
  {
   "cell_type": "code",
   "execution_count": 5,
   "id": "391a2ce1",
   "metadata": {},
   "outputs": [
    {
     "data": {
      "text/html": [
       "<div>\n",
       "<style scoped>\n",
       "    .dataframe tbody tr th:only-of-type {\n",
       "        vertical-align: middle;\n",
       "    }\n",
       "\n",
       "    .dataframe tbody tr th {\n",
       "        vertical-align: top;\n",
       "    }\n",
       "\n",
       "    .dataframe thead th {\n",
       "        text-align: right;\n",
       "    }\n",
       "</style>\n",
       "<table border=\"1\" class=\"dataframe\">\n",
       "  <thead>\n",
       "    <tr style=\"text-align: right;\">\n",
       "      <th></th>\n",
       "      <th>idade</th>\n",
       "      <th>classe_trabalho</th>\n",
       "      <th>escolaridade</th>\n",
       "      <th>anos_estudo</th>\n",
       "      <th>estado_civil</th>\n",
       "      <th>raca</th>\n",
       "      <th>sexo</th>\n",
       "      <th>UF</th>\n",
       "      <th>região</th>\n",
       "      <th>qtde_filhos</th>\n",
       "      <th>salario</th>\n",
       "    </tr>\n",
       "  </thead>\n",
       "  <tbody>\n",
       "    <tr>\n",
       "      <th>0</th>\n",
       "      <td>39</td>\n",
       "      <td>Servidor Público</td>\n",
       "      <td>Ensino Médio Completo</td>\n",
       "      <td>13</td>\n",
       "      <td>Solteiro</td>\n",
       "      <td>Branco</td>\n",
       "      <td>Masculino</td>\n",
       "      <td>RO</td>\n",
       "      <td>Norte</td>\n",
       "      <td>2.0</td>\n",
       "      <td>4754</td>\n",
       "    </tr>\n",
       "    <tr>\n",
       "      <th>1</th>\n",
       "      <td>50</td>\n",
       "      <td>Autônomo</td>\n",
       "      <td>Superior Incompleto</td>\n",
       "      <td>13</td>\n",
       "      <td>Casado</td>\n",
       "      <td>Branco</td>\n",
       "      <td>Masculino</td>\n",
       "      <td>AC</td>\n",
       "      <td>Norte</td>\n",
       "      <td>1.0</td>\n",
       "      <td>3923</td>\n",
       "    </tr>\n",
       "    <tr>\n",
       "      <th>2</th>\n",
       "      <td>38</td>\n",
       "      <td>Funcionário Setor Privado</td>\n",
       "      <td>Ensino Médio Incompleto</td>\n",
       "      <td>9</td>\n",
       "      <td>Divorciado</td>\n",
       "      <td>Branco</td>\n",
       "      <td>Masculino</td>\n",
       "      <td>AM</td>\n",
       "      <td>Norte</td>\n",
       "      <td>0.0</td>\n",
       "      <td>1100</td>\n",
       "    </tr>\n",
       "    <tr>\n",
       "      <th>3</th>\n",
       "      <td>53</td>\n",
       "      <td>Funcionário Setor Privado</td>\n",
       "      <td>Ensino Médio Incompleto</td>\n",
       "      <td>7</td>\n",
       "      <td>Casado</td>\n",
       "      <td>Negro</td>\n",
       "      <td>Masculino</td>\n",
       "      <td>RR</td>\n",
       "      <td>Norte</td>\n",
       "      <td>1.0</td>\n",
       "      <td>1100</td>\n",
       "    </tr>\n",
       "    <tr>\n",
       "      <th>4</th>\n",
       "      <td>28</td>\n",
       "      <td>Funcionário Setor Privado</td>\n",
       "      <td>Ensino Médio Completo</td>\n",
       "      <td>13</td>\n",
       "      <td>Casado</td>\n",
       "      <td>Negro</td>\n",
       "      <td>Feminino</td>\n",
       "      <td>PA</td>\n",
       "      <td>Norte</td>\n",
       "      <td>0.0</td>\n",
       "      <td>3430</td>\n",
       "    </tr>\n",
       "  </tbody>\n",
       "</table>\n",
       "</div>"
      ],
      "text/plain": [
       "   idade            classe_trabalho             escolaridade  anos_estudo  \\\n",
       "0     39           Servidor Público    Ensino Médio Completo           13   \n",
       "1     50                   Autônomo      Superior Incompleto           13   \n",
       "2     38  Funcionário Setor Privado  Ensino Médio Incompleto            9   \n",
       "3     53  Funcionário Setor Privado  Ensino Médio Incompleto            7   \n",
       "4     28  Funcionário Setor Privado    Ensino Médio Completo           13   \n",
       "\n",
       "  estado_civil    raca       sexo  UF região  qtde_filhos  salario  \n",
       "0     Solteiro  Branco  Masculino  RO  Norte          2.0     4754  \n",
       "1       Casado  Branco  Masculino  AC  Norte          1.0     3923  \n",
       "2   Divorciado  Branco  Masculino  AM  Norte          0.0     1100  \n",
       "3       Casado   Negro  Masculino  RR  Norte          1.0     1100  \n",
       "4       Casado   Negro   Feminino  PA  Norte          0.0     3430  "
      ]
     },
     "execution_count": 5,
     "metadata": {},
     "output_type": "execute_result"
    }
   ],
   "source": [
    "df.head()\n"
   ]
  },
  {
   "cell_type": "code",
   "execution_count": 6,
   "id": "01f887f7",
   "metadata": {},
   "outputs": [
    {
     "data": {
      "text/plain": [
       "classe_trabalho\n",
       "Aposentado                    1033500\n",
       "Autônomo                      1581160\n",
       "Desempregado                        0\n",
       "Empresário                    5054548\n",
       "Estagiário                       1100\n",
       "Funcionário Público            903206\n",
       "Funcionário Setor Privado    13266341\n",
       "MEI                           1084767\n",
       "Menor Aprendiz                  97600\n",
       "Servidor Público              1525387\n",
       "Name: salario, dtype: int64"
      ]
     },
     "execution_count": 6,
     "metadata": {},
     "output_type": "execute_result"
    }
   ],
   "source": [
    "df_agrupado = df.groupby('classe_trabalho')['salario'].sum()\n",
    "df_agrupado"
   ]
  },
  {
   "cell_type": "code",
   "execution_count": null,
   "id": "18b44cc5",
   "metadata": {},
   "outputs": [
    {
     "data": {
      "text/plain": [
       "classe_trabalho   estado_civil   sexo     \n",
       "Aposentado        Casado         Feminino     3287.14\n",
       "                                 Masculino    3966.74\n",
       "                  Divorciado     Feminino     4233.67\n",
       "                                 Masculino    3941.40\n",
       "                  Separado       Feminino     2971.00\n",
       "                                               ...   \n",
       "Servidor Público  Solteiro       Masculino    5154.23\n",
       "                  União Estável  Feminino     5387.00\n",
       "                                 Masculino    4793.33\n",
       "                  Viúvo          Feminino     3025.67\n",
       "                                 Masculino    8107.00\n",
       "Name: salario, Length: 89, dtype: float64"
      ]
     },
     "execution_count": 9,
     "metadata": {},
     "output_type": "execute_result"
    }
   ],
   "source": [
    "agrupamento = ['classe_trabalho', 'estado_civil', 'sexo']\n",
    "\n",
    "df.groupby(agrupamento)['salario'].mean().round(2)\n"
   ]
  },
  {
   "cell_type": "code",
   "execution_count": 10,
   "id": "d1fdb175",
   "metadata": {},
   "outputs": [
    {
     "data": {
      "text/html": [
       "<div>\n",
       "<style scoped>\n",
       "    .dataframe tbody tr th:only-of-type {\n",
       "        vertical-align: middle;\n",
       "    }\n",
       "\n",
       "    .dataframe tbody tr th {\n",
       "        vertical-align: top;\n",
       "    }\n",
       "\n",
       "    .dataframe thead th {\n",
       "        text-align: right;\n",
       "    }\n",
       "</style>\n",
       "<table border=\"1\" class=\"dataframe\">\n",
       "  <thead>\n",
       "    <tr style=\"text-align: right;\">\n",
       "      <th></th>\n",
       "      <th>classe_trabalho</th>\n",
       "      <th>estado_civil</th>\n",
       "      <th>sexo</th>\n",
       "      <th>salario</th>\n",
       "    </tr>\n",
       "  </thead>\n",
       "  <tbody>\n",
       "    <tr>\n",
       "      <th>0</th>\n",
       "      <td>Aposentado</td>\n",
       "      <td>Casado</td>\n",
       "      <td>Feminino</td>\n",
       "      <td>3287.14</td>\n",
       "    </tr>\n",
       "    <tr>\n",
       "      <th>1</th>\n",
       "      <td>Aposentado</td>\n",
       "      <td>Casado</td>\n",
       "      <td>Masculino</td>\n",
       "      <td>3966.74</td>\n",
       "    </tr>\n",
       "    <tr>\n",
       "      <th>2</th>\n",
       "      <td>Aposentado</td>\n",
       "      <td>Divorciado</td>\n",
       "      <td>Feminino</td>\n",
       "      <td>4233.67</td>\n",
       "    </tr>\n",
       "    <tr>\n",
       "      <th>3</th>\n",
       "      <td>Aposentado</td>\n",
       "      <td>Divorciado</td>\n",
       "      <td>Masculino</td>\n",
       "      <td>3941.40</td>\n",
       "    </tr>\n",
       "    <tr>\n",
       "      <th>4</th>\n",
       "      <td>Aposentado</td>\n",
       "      <td>Separado</td>\n",
       "      <td>Feminino</td>\n",
       "      <td>2971.00</td>\n",
       "    </tr>\n",
       "    <tr>\n",
       "      <th>...</th>\n",
       "      <td>...</td>\n",
       "      <td>...</td>\n",
       "      <td>...</td>\n",
       "      <td>...</td>\n",
       "    </tr>\n",
       "    <tr>\n",
       "      <th>84</th>\n",
       "      <td>Servidor Público</td>\n",
       "      <td>Solteiro</td>\n",
       "      <td>Masculino</td>\n",
       "      <td>5154.23</td>\n",
       "    </tr>\n",
       "    <tr>\n",
       "      <th>85</th>\n",
       "      <td>Servidor Público</td>\n",
       "      <td>União Estável</td>\n",
       "      <td>Feminino</td>\n",
       "      <td>5387.00</td>\n",
       "    </tr>\n",
       "    <tr>\n",
       "      <th>86</th>\n",
       "      <td>Servidor Público</td>\n",
       "      <td>União Estável</td>\n",
       "      <td>Masculino</td>\n",
       "      <td>4793.33</td>\n",
       "    </tr>\n",
       "    <tr>\n",
       "      <th>87</th>\n",
       "      <td>Servidor Público</td>\n",
       "      <td>Viúvo</td>\n",
       "      <td>Feminino</td>\n",
       "      <td>3025.67</td>\n",
       "    </tr>\n",
       "    <tr>\n",
       "      <th>88</th>\n",
       "      <td>Servidor Público</td>\n",
       "      <td>Viúvo</td>\n",
       "      <td>Masculino</td>\n",
       "      <td>8107.00</td>\n",
       "    </tr>\n",
       "  </tbody>\n",
       "</table>\n",
       "<p>89 rows × 4 columns</p>\n",
       "</div>"
      ],
      "text/plain": [
       "     classe_trabalho   estado_civil       sexo  salario\n",
       "0         Aposentado         Casado   Feminino  3287.14\n",
       "1         Aposentado         Casado  Masculino  3966.74\n",
       "2         Aposentado     Divorciado   Feminino  4233.67\n",
       "3         Aposentado     Divorciado  Masculino  3941.40\n",
       "4         Aposentado       Separado   Feminino  2971.00\n",
       "..               ...            ...        ...      ...\n",
       "84  Servidor Público       Solteiro  Masculino  5154.23\n",
       "85  Servidor Público  União Estável   Feminino  5387.00\n",
       "86  Servidor Público  União Estável  Masculino  4793.33\n",
       "87  Servidor Público          Viúvo   Feminino  3025.67\n",
       "88  Servidor Público          Viúvo  Masculino  8107.00\n",
       "\n",
       "[89 rows x 4 columns]"
      ]
     },
     "execution_count": 10,
     "metadata": {},
     "output_type": "execute_result"
    }
   ],
   "source": [
    "\n",
    "df.groupby(agrupamento)['salario'].mean().round(2).reset_index()"
   ]
  },
  {
   "cell_type": "markdown",
   "id": "c9f78ee7",
   "metadata": {},
   "source": [
    "#### Método agg\n",
    "***\n",
    "Esse método permite aplicar várias funções de agregação aos grupos definidos pelo groupby. Podemos calcular diferentes métricas para cada grupo ou até mesmo aplicar funções personalizadas."
   ]
  },
  {
   "cell_type": "code",
   "execution_count": null,
   "id": "e1803a36",
   "metadata": {},
   "outputs": [],
   "source": [
    "# Agrupar os dados por categoria e calcular a soma das vendas em cada categoria\n"
   ]
  },
  {
   "cell_type": "code",
   "execution_count": null,
   "id": "d8086da8",
   "metadata": {},
   "outputs": [],
   "source": []
  },
  {
   "cell_type": "markdown",
   "id": "87937587",
   "metadata": {},
   "source": [
    "#### Método pivot_table\n",
    "***\n",
    "Permite criar uma tabela dinâmica a partir dos dados, onde as linhas representam uma categoria, as colunas representam outra categoria e os valores são agregados com base em uma terceira categoria.\n"
   ]
  },
  {
   "cell_type": "code",
   "execution_count": null,
   "id": "03046c88",
   "metadata": {},
   "outputs": [],
   "source": [
    "\n"
   ]
  },
  {
   "cell_type": "markdown",
   "id": "20d5eeff",
   "metadata": {},
   "source": [
    "#### Método info\n",
    "***\n",
    "Fornece um resumo conciso das informações básicas sobre um DataFrame, incluindo o número de linhas, o número de colunas, os nomes das colunas e os tipos de dados de cada coluna. Além disso, ele também mostra a quantidade de memória usada pelo DataFrame. Isso é particularmente útil quando estamos lidando com conjuntos de dados grandes e queremos ter uma visão geral rápida de sua estrutura."
   ]
  },
  {
   "cell_type": "code",
   "execution_count": null,
   "id": "9371c352",
   "metadata": {},
   "outputs": [],
   "source": []
  },
  {
   "cell_type": "markdown",
   "id": "18f2c29d",
   "metadata": {},
   "source": [
    "#### Método describe\n",
    "\n",
    "***\n",
    "Fornece um resumo estatístico das colunas numéricas de um DataFrame. Ele calcula várias estatísticas descritivas, como contagem, média, desvio padrão, valor mínimo, quartis e valor máximo. Essa função nos ajuda a ter uma visão rápida das principais informações estatísticas de cada coluna numérica, permitindo identificar tendências, distribuições e possíveis outliers nos dados."
   ]
  },
  {
   "cell_type": "code",
   "execution_count": null,
   "id": "4d693703",
   "metadata": {},
   "outputs": [],
   "source": []
  },
  {
   "cell_type": "code",
   "execution_count": null,
   "id": "505b6458",
   "metadata": {},
   "outputs": [],
   "source": []
  },
  {
   "cell_type": "markdown",
   "id": "2cf46e32",
   "metadata": {},
   "source": [
    "### Método Transpose\n",
    "\n",
    "***\n",
    "A função transpose pode ser útil em diversas situações, como quando queremos realizar operações em colunas específicas, quando precisamos ajustar a estrutura do DataFrame para uma determinada análise ou quando desejamos apresentar os dados de uma forma mais adequada para visualização.\n",
    "\n",
    "A função transpose do Pandas nos permite realizar a transposição de um DataFrame, trocando as linhas pelas colunas e as colunas pelas linhas. Essa função é útil quando queremos modificar a orientação dos dados para melhor adequá-los às nossas necessidades de análise e visualização."
   ]
  },
  {
   "cell_type": "code",
   "execution_count": null,
   "id": "dd600e5f",
   "metadata": {},
   "outputs": [],
   "source": []
  }
 ],
 "metadata": {
  "kernelspec": {
   "display_name": "modulo_1",
   "language": "python",
   "name": "python3"
  },
  "language_info": {
   "codemirror_mode": {
    "name": "ipython",
    "version": 3
   },
   "file_extension": ".py",
   "mimetype": "text/x-python",
   "name": "python",
   "nbconvert_exporter": "python",
   "pygments_lexer": "ipython3",
   "version": "3.11.2"
  }
 },
 "nbformat": 4,
 "nbformat_minor": 5
}

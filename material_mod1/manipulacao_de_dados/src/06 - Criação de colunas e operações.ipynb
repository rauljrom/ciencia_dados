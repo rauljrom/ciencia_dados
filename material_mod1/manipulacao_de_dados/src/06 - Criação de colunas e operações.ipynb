{
 "cells": [
  {
   "cell_type": "markdown",
   "id": "f3f2076e",
   "metadata": {},
   "source": [
    "# Criação de colunas e operações\n",
    "***\n",
    "\n",
    "A criação de colunas e a realização de operações são tarefas essenciais na manipulação e transformação de dados no Pandas. Nesse contexto, o Pandas oferece algumas ferramentas úteis, como os métodos assign, transform e apply, que permitem adicionar novas colunas aos DataFrames e aplicar operações em linhas ou colunas existentes.\n"
   ]
  },
  {
   "cell_type": "markdown",
   "id": "6072fe86",
   "metadata": {},
   "source": [
    "#### Importação das Bibliotecas\n"
   ]
  },
  {
   "cell_type": "code",
   "execution_count": 1,
   "id": "f42670ce",
   "metadata": {},
   "outputs": [],
   "source": [
    "import pandas as pd        "
   ]
  },
  {
   "cell_type": "markdown",
   "id": "1ac9030e",
   "metadata": {},
   "source": [
    "#### Coletando Dados de Vendas\n",
    "***"
   ]
  },
  {
   "cell_type": "code",
   "execution_count": 3,
   "id": "0544c9f6",
   "metadata": {},
   "outputs": [
    {
     "data": {
      "text/html": [
       "<div>\n",
       "<style scoped>\n",
       "    .dataframe tbody tr th:only-of-type {\n",
       "        vertical-align: middle;\n",
       "    }\n",
       "\n",
       "    .dataframe tbody tr th {\n",
       "        vertical-align: top;\n",
       "    }\n",
       "\n",
       "    .dataframe thead th {\n",
       "        text-align: right;\n",
       "    }\n",
       "</style>\n",
       "<table border=\"1\" class=\"dataframe\">\n",
       "  <thead>\n",
       "    <tr style=\"text-align: right;\">\n",
       "      <th></th>\n",
       "      <th>nome_vendedor</th>\n",
       "      <th>produto</th>\n",
       "      <th>qtd</th>\n",
       "      <th>valor</th>\n",
       "      <th>data_compra</th>\n",
       "      <th>local</th>\n",
       "    </tr>\n",
       "  </thead>\n",
       "  <tbody>\n",
       "    <tr>\n",
       "      <th>0</th>\n",
       "      <td>Joaquim Souza</td>\n",
       "      <td>Produto B</td>\n",
       "      <td>9</td>\n",
       "      <td>33,32</td>\n",
       "      <td>12/01/2023</td>\n",
       "      <td>PI</td>\n",
       "    </tr>\n",
       "    <tr>\n",
       "      <th>1</th>\n",
       "      <td>Lorenzo da Luz</td>\n",
       "      <td>Produto B</td>\n",
       "      <td>10</td>\n",
       "      <td>94.38</td>\n",
       "      <td>24/03/2023</td>\n",
       "      <td>DF</td>\n",
       "    </tr>\n",
       "    <tr>\n",
       "      <th>2</th>\n",
       "      <td>Gustavo Henrique Moreira</td>\n",
       "      <td>Produto E</td>\n",
       "      <td>9</td>\n",
       "      <td>84.45</td>\n",
       "      <td>11/06/2022</td>\n",
       "      <td>PE</td>\n",
       "    </tr>\n",
       "    <tr>\n",
       "      <th>3</th>\n",
       "      <td>Lorena da Costa</td>\n",
       "      <td>Produto C</td>\n",
       "      <td>5</td>\n",
       "      <td>34.14</td>\n",
       "      <td>24/12/2022</td>\n",
       "      <td>RO</td>\n",
       "    </tr>\n",
       "    <tr>\n",
       "      <th>4</th>\n",
       "      <td>Caio Monteiro</td>\n",
       "      <td>Produto C</td>\n",
       "      <td>2</td>\n",
       "      <td>94.42</td>\n",
       "      <td>27/05/2022</td>\n",
       "      <td>MG</td>\n",
       "    </tr>\n",
       "  </tbody>\n",
       "</table>\n",
       "</div>"
      ],
      "text/plain": [
       "              nome_vendedor    produto  qtd  valor data_compra local\n",
       "0             Joaquim Souza  Produto B    9  33,32  12/01/2023    PI\n",
       "1            Lorenzo da Luz  Produto B   10  94.38  24/03/2023    DF\n",
       "2  Gustavo Henrique Moreira  Produto E    9  84.45  11/06/2022    PE\n",
       "3           Lorena da Costa  Produto C    5  34.14  24/12/2022    RO\n",
       "4             Caio Monteiro  Produto C    2  94.42  27/05/2022    MG"
      ]
     },
     "execution_count": 3,
     "metadata": {},
     "output_type": "execute_result"
    }
   ],
   "source": [
    "df = pd.read_csv('../../source_data/dados_vendas_produtos.csv', \n",
    "                 sep=';', encoding='latin1') \n",
    "\n",
    "df.head()"
   ]
  },
  {
   "cell_type": "code",
   "execution_count": 14,
   "id": "5c39a296",
   "metadata": {},
   "outputs": [],
   "source": [
    "df['valor'] = df['valor'].str.replace(',',  '.')\n",
    "df['valor'] = df['valor'].astype('float')"
   ]
  },
  {
   "cell_type": "markdown",
   "id": "3e344819",
   "metadata": {},
   "source": [
    "#### Criando Nova Feature\n",
    "***"
   ]
  },
  {
   "cell_type": "code",
   "execution_count": 15,
   "id": "6c343cb5",
   "metadata": {},
   "outputs": [],
   "source": [
    "df['valor_venda'] = df['qtd'] * df['valor']"
   ]
  },
  {
   "cell_type": "code",
   "execution_count": 16,
   "id": "e73aa8de",
   "metadata": {},
   "outputs": [
    {
     "name": "stdout",
     "output_type": "stream",
     "text": [
      "<class 'pandas.core.frame.DataFrame'>\n",
      "RangeIndex: 1009 entries, 0 to 1008\n",
      "Data columns (total 7 columns):\n",
      " #   Column         Non-Null Count  Dtype  \n",
      "---  ------         --------------  -----  \n",
      " 0   nome_vendedor  1009 non-null   object \n",
      " 1   produto        998 non-null    object \n",
      " 2   qtd            1009 non-null   int64  \n",
      " 3   valor          1002 non-null   float64\n",
      " 4   data_compra    1009 non-null   object \n",
      " 5   local          1009 non-null   object \n",
      " 6   valor_venda    1002 non-null   float64\n",
      "dtypes: float64(2), int64(1), object(4)\n",
      "memory usage: 55.3+ KB\n"
     ]
    }
   ],
   "source": [
    "df.info()"
   ]
  },
  {
   "cell_type": "code",
   "execution_count": 17,
   "id": "adb20f2d",
   "metadata": {},
   "outputs": [
    {
     "data": {
      "text/html": [
       "<div>\n",
       "<style scoped>\n",
       "    .dataframe tbody tr th:only-of-type {\n",
       "        vertical-align: middle;\n",
       "    }\n",
       "\n",
       "    .dataframe tbody tr th {\n",
       "        vertical-align: top;\n",
       "    }\n",
       "\n",
       "    .dataframe thead th {\n",
       "        text-align: right;\n",
       "    }\n",
       "</style>\n",
       "<table border=\"1\" class=\"dataframe\">\n",
       "  <thead>\n",
       "    <tr style=\"text-align: right;\">\n",
       "      <th></th>\n",
       "      <th>nome_vendedor</th>\n",
       "      <th>produto</th>\n",
       "      <th>qtd</th>\n",
       "      <th>valor</th>\n",
       "      <th>data_compra</th>\n",
       "      <th>local</th>\n",
       "      <th>valor_venda</th>\n",
       "    </tr>\n",
       "  </thead>\n",
       "  <tbody>\n",
       "    <tr>\n",
       "      <th>0</th>\n",
       "      <td>Joaquim Souza</td>\n",
       "      <td>Produto B</td>\n",
       "      <td>9</td>\n",
       "      <td>33.32</td>\n",
       "      <td>12/01/2023</td>\n",
       "      <td>PI</td>\n",
       "      <td>299.88</td>\n",
       "    </tr>\n",
       "    <tr>\n",
       "      <th>1</th>\n",
       "      <td>Lorenzo da Luz</td>\n",
       "      <td>Produto B</td>\n",
       "      <td>10</td>\n",
       "      <td>94.38</td>\n",
       "      <td>24/03/2023</td>\n",
       "      <td>DF</td>\n",
       "      <td>943.80</td>\n",
       "    </tr>\n",
       "    <tr>\n",
       "      <th>2</th>\n",
       "      <td>Gustavo Henrique Moreira</td>\n",
       "      <td>Produto E</td>\n",
       "      <td>9</td>\n",
       "      <td>84.45</td>\n",
       "      <td>11/06/2022</td>\n",
       "      <td>PE</td>\n",
       "      <td>760.05</td>\n",
       "    </tr>\n",
       "    <tr>\n",
       "      <th>3</th>\n",
       "      <td>Lorena da Costa</td>\n",
       "      <td>Produto C</td>\n",
       "      <td>5</td>\n",
       "      <td>34.14</td>\n",
       "      <td>24/12/2022</td>\n",
       "      <td>RO</td>\n",
       "      <td>170.70</td>\n",
       "    </tr>\n",
       "    <tr>\n",
       "      <th>4</th>\n",
       "      <td>Caio Monteiro</td>\n",
       "      <td>Produto C</td>\n",
       "      <td>2</td>\n",
       "      <td>94.42</td>\n",
       "      <td>27/05/2022</td>\n",
       "      <td>MG</td>\n",
       "      <td>188.84</td>\n",
       "    </tr>\n",
       "  </tbody>\n",
       "</table>\n",
       "</div>"
      ],
      "text/plain": [
       "              nome_vendedor    produto  qtd  valor data_compra local  \\\n",
       "0             Joaquim Souza  Produto B    9  33.32  12/01/2023    PI   \n",
       "1            Lorenzo da Luz  Produto B   10  94.38  24/03/2023    DF   \n",
       "2  Gustavo Henrique Moreira  Produto E    9  84.45  11/06/2022    PE   \n",
       "3           Lorena da Costa  Produto C    5  34.14  24/12/2022    RO   \n",
       "4             Caio Monteiro  Produto C    2  94.42  27/05/2022    MG   \n",
       "\n",
       "   valor_venda  \n",
       "0       299.88  \n",
       "1       943.80  \n",
       "2       760.05  \n",
       "3       170.70  \n",
       "4       188.84  "
      ]
     },
     "execution_count": 17,
     "metadata": {},
     "output_type": "execute_result"
    }
   ],
   "source": [
    "df.head()"
   ]
  },
  {
   "cell_type": "markdown",
   "id": "87937587",
   "metadata": {},
   "source": [
    "#### Método apply\n",
    "***\n",
    "O método apply é usado para aplicar uma função a cada linha ou coluna de um DataFrame. Podemos usar funções definidas por nós mesmos ou funções built-in do Python.\n"
   ]
  },
  {
   "cell_type": "code",
   "execution_count": null,
   "id": "08ab99c2",
   "metadata": {},
   "outputs": [],
   "source": []
  },
  {
   "cell_type": "code",
   "execution_count": null,
   "id": "4d90d0d3",
   "metadata": {},
   "outputs": [],
   "source": []
  },
  {
   "cell_type": "code",
   "execution_count": null,
   "id": "a6b5f90e",
   "metadata": {},
   "outputs": [],
   "source": []
  },
  {
   "cell_type": "code",
   "execution_count": null,
   "id": "04ff7059",
   "metadata": {},
   "outputs": [],
   "source": []
  }
 ],
 "metadata": {
  "kernelspec": {
   "display_name": "modulo_1",
   "language": "python",
   "name": "python3"
  },
  "language_info": {
   "codemirror_mode": {
    "name": "ipython",
    "version": 3
   },
   "file_extension": ".py",
   "mimetype": "text/x-python",
   "name": "python",
   "nbconvert_exporter": "python",
   "pygments_lexer": "ipython3",
   "version": "3.11.2"
  }
 },
 "nbformat": 4,
 "nbformat_minor": 5
}

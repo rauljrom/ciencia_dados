{
 "cells": [
  {
   "cell_type": "markdown",
   "id": "f3f2076e",
   "metadata": {},
   "source": [
    "# Junções de dados em DataFrames\n",
    "***\n",
    "\n",
    "A junção de dados é uma operação fundamental na análise de dados, pois permite combinar informações de diferentes fontes com base em um critério comum. No pandas, existem diversos métodos para realizar junções eficientes entre DataFrames, permitindo a criação de análises mais completas e significativas.\n",
    "\n",
    "A importância das junções no DataFrame reside no fato de que os conjuntos de dados podem estar distribuídos em várias tabelas ou fontes de dados, cada uma contendo informações relevantes para a análise. Ao realizar junções, podemos combinar esses conjuntos de dados com base em colunas-chave compartilhadas, permitindo a integração das informações em um único DataFrame. Isso facilita a análise e a obtenção de insights abrangentes.\n"
   ]
  },
  {
   "cell_type": "markdown",
   "id": "6072fe86",
   "metadata": {},
   "source": [
    "### Importação das bibliotecas\n"
   ]
  },
  {
   "cell_type": "code",
   "execution_count": null,
   "id": "f42670ce",
   "metadata": {},
   "outputs": [],
   "source": []
  },
  {
   "cell_type": "markdown",
   "id": "be47e44e",
   "metadata": {},
   "source": [
    "### Criando  dataframe a partir de uma lista em Python"
   ]
  },
  {
   "cell_type": "code",
   "execution_count": null,
   "id": "ab54a77d",
   "metadata": {},
   "outputs": [],
   "source": [
    "# Criação dos DataFrames\n"
   ]
  },
  {
   "cell_type": "code",
   "execution_count": null,
   "id": "6dc68a44",
   "metadata": {},
   "outputs": [],
   "source": []
  },
  {
   "cell_type": "markdown",
   "id": "6c326736",
   "metadata": {},
   "source": [
    "### Método merge\n",
    "***\n",
    "É o método mais comum para realizar junções no pandas. Ele combina DataFrames com base em colunas-chave compartilhadas, semelhante à cláusula JOIN em SQL. Podemos especificar o tipo de junção (inner, outer, left, right) e as colunas-chave a serem usadas na junção."
   ]
  },
  {
   "cell_type": "markdown",
   "id": "639d6664",
   "metadata": {},
   "source": [
    "##### Inner Join\n",
    "***\n",
    "A junção interna (inner join) retorna apenas os registros que têm um ID correspondente em ambos os DataFrames. Registros que não têm correspondência são excluídos. O resultado será apenas os registros com ID 3 e 4."
   ]
  },
  {
   "cell_type": "code",
   "execution_count": null,
   "id": "2fbe1b89",
   "metadata": {},
   "outputs": [],
   "source": []
  },
  {
   "cell_type": "markdown",
   "id": "ebb6a54f",
   "metadata": {},
   "source": [
    "##### Outer Join\n",
    "***\n",
    "A junção externa (outer join) retorna todos os registros dos dois DataFrames, incluindo aqueles que não têm correspondência. Os valores ausentes são preenchidos com NaN. O resultado incluirá todos os registros dos IDs 1, 2, 3, 4, 5 e 6."
   ]
  },
  {
   "cell_type": "code",
   "execution_count": null,
   "id": "0b2fe1ea",
   "metadata": {},
   "outputs": [],
   "source": []
  },
  {
   "cell_type": "markdown",
   "id": "49c1a929",
   "metadata": {},
   "source": [
    "##### Left Join\n",
    "***\n",
    "A junção à esquerda (left join) retorna todos os registros do DataFrame da esquerda (df1) e os registros correspondentes do DataFrame da direita (df2). Registros que não têm correspondência no df2 são preenchidos com NaN. O resultado incluirá todos os registros dos IDs 1, 2, 3 e 4."
   ]
  },
  {
   "cell_type": "code",
   "execution_count": null,
   "id": "4d15a9fe",
   "metadata": {},
   "outputs": [],
   "source": [
    "# Junção left\n"
   ]
  },
  {
   "cell_type": "markdown",
   "id": "5295a1be",
   "metadata": {},
   "source": [
    "##### Right Join\n",
    "***\n",
    "A junção à direita (right join) retorna todos os registros do DataFrame da direita (df2) e os registros correspondentes do DataFrame da esquerda (df1). Registros que não têm correspondência no df1 são preenchidos com NaN. O resultado incluirá todos os registros dos IDs 3, 4, 5 e 6."
   ]
  },
  {
   "cell_type": "code",
   "execution_count": null,
   "id": "36d4e671",
   "metadata": {},
   "outputs": [],
   "source": [
    "# Junção right\n"
   ]
  },
  {
   "cell_type": "markdown",
   "id": "e4dc86d6",
   "metadata": {},
   "source": [
    "### Método Join \n",
    "***\n",
    "Esse método permite a junção de DataFrames usando seus índices. Ele é útil quando os DataFrames têm índices comuns ou quando queremos combinar os DataFrames com base nos rótulos das colunas."
   ]
  },
  {
   "cell_type": "code",
   "execution_count": null,
   "id": "2b5dece7",
   "metadata": {},
   "outputs": [],
   "source": [
    "# Junção inner usando join()\n"
   ]
  },
  {
   "cell_type": "markdown",
   "id": "68c5aba8",
   "metadata": {},
   "source": [
    "### Método concat\n",
    "Embora não seja estritamente uma junção, o método concat() permite combinar DataFrames ao longo de um eixo específico. Ele é útil quando desejamos combinar dados verticalmente (ao longo das linhas) ou horizontalmente (ao longo das colunas)."
   ]
  },
  {
   "cell_type": "code",
   "execution_count": null,
   "id": "09c704a1",
   "metadata": {},
   "outputs": [],
   "source": [
    "\n"
   ]
  },
  {
   "cell_type": "code",
   "execution_count": null,
   "id": "09006ef0",
   "metadata": {},
   "outputs": [],
   "source": [
    "# Concatenando os DataFrames horizontalmente\n"
   ]
  },
  {
   "cell_type": "markdown",
   "id": "4549a774",
   "metadata": {},
   "source": [
    "Estamos realizando uma concatenação horizontal, utilizando o parâmetro axis=1. Nesse caso, os DataFrames são concatenados lado a lado, criando novas colunas."
   ]
  }
 ],
 "metadata": {
  "kernelspec": {
   "display_name": "avaliacao",
   "language": "python",
   "name": "avaliacao"
  },
  "language_info": {
   "codemirror_mode": {
    "name": "ipython",
    "version": 3
   },
   "file_extension": ".py",
   "mimetype": "text/x-python",
   "name": "python",
   "nbconvert_exporter": "python",
   "pygments_lexer": "ipython3",
   "version": "3.11.0"
  }
 },
 "nbformat": 4,
 "nbformat_minor": 5
}

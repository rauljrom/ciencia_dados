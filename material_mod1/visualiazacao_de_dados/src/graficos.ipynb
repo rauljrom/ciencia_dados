{
 "cells": [
  {
   "cell_type": "markdown",
   "metadata": {},
   "source": [
    "#### Importação das Bibliotecas"
   ]
  },
  {
   "cell_type": "code",
   "execution_count": 2,
   "metadata": {},
   "outputs": [],
   "source": [
    "import pandas as pd\n",
    "import matplotlib.pyplot as plt\n",
    "import seaborn as sns\n"
   ]
  },
  {
   "cell_type": "code",
   "execution_count": 5,
   "metadata": {},
   "outputs": [],
   "source": [
    "df = pd.read_csv('../../source_data/vendas_regiao.csv', sep=',', encoding='latin1')\n"
   ]
  },
  {
   "cell_type": "code",
   "execution_count": 6,
   "metadata": {},
   "outputs": [
    {
     "data": {
      "text/html": [
       "<div>\n",
       "<style scoped>\n",
       "    .dataframe tbody tr th:only-of-type {\n",
       "        vertical-align: middle;\n",
       "    }\n",
       "\n",
       "    .dataframe tbody tr th {\n",
       "        vertical-align: top;\n",
       "    }\n",
       "\n",
       "    .dataframe thead th {\n",
       "        text-align: right;\n",
       "    }\n",
       "</style>\n",
       "<table border=\"1\" class=\"dataframe\">\n",
       "  <thead>\n",
       "    <tr style=\"text-align: right;\">\n",
       "      <th></th>\n",
       "      <th>ID_Cliente</th>\n",
       "      <th>Nome_Cliente</th>\n",
       "      <th>id_estado</th>\n",
       "      <th>sigla</th>\n",
       "      <th>estado</th>\n",
       "      <th>regiao</th>\n",
       "      <th>ID_Venda</th>\n",
       "      <th>Data</th>\n",
       "      <th>SKU_Produto</th>\n",
       "      <th>Categoria</th>\n",
       "      <th>Nome_Produto</th>\n",
       "      <th>Quantidade</th>\n",
       "      <th>Preco</th>\n",
       "      <th>valor_venda</th>\n",
       "      <th>Canal</th>\n",
       "    </tr>\n",
       "  </thead>\n",
       "  <tbody>\n",
       "    <tr>\n",
       "      <th>0</th>\n",
       "      <td>1</td>\n",
       "      <td>Sr. Enzo Gabriel Azevedo</td>\n",
       "      <td>22</td>\n",
       "      <td>RO</td>\n",
       "      <td>Rondônia</td>\n",
       "      <td>Norte</td>\n",
       "      <td>33</td>\n",
       "      <td>2023-05-18</td>\n",
       "      <td>SKU-53822</td>\n",
       "      <td>Brinquedos</td>\n",
       "      <td>Quebra-cabeça</td>\n",
       "      <td>10</td>\n",
       "      <td>122.47</td>\n",
       "      <td>1224.70</td>\n",
       "      <td>Loja Física</td>\n",
       "    </tr>\n",
       "    <tr>\n",
       "      <th>1</th>\n",
       "      <td>1</td>\n",
       "      <td>Sr. Enzo Gabriel Azevedo</td>\n",
       "      <td>22</td>\n",
       "      <td>RO</td>\n",
       "      <td>Rondônia</td>\n",
       "      <td>Norte</td>\n",
       "      <td>844</td>\n",
       "      <td>2023-03-30</td>\n",
       "      <td>SKU-97371</td>\n",
       "      <td>Esporte</td>\n",
       "      <td>Patins</td>\n",
       "      <td>3</td>\n",
       "      <td>237.06</td>\n",
       "      <td>711.18</td>\n",
       "      <td>Loja Física</td>\n",
       "    </tr>\n",
       "    <tr>\n",
       "      <th>2</th>\n",
       "      <td>2</td>\n",
       "      <td>Srta. Kamilly da Rocha</td>\n",
       "      <td>4</td>\n",
       "      <td>AM</td>\n",
       "      <td>Amazonas</td>\n",
       "      <td>Norte</td>\n",
       "      <td>931</td>\n",
       "      <td>2023-12-28</td>\n",
       "      <td>SKU-50582</td>\n",
       "      <td>Eletrônicos</td>\n",
       "      <td>Laptop</td>\n",
       "      <td>5</td>\n",
       "      <td>4526.60</td>\n",
       "      <td>22633.00</td>\n",
       "      <td>Online</td>\n",
       "    </tr>\n",
       "    <tr>\n",
       "      <th>3</th>\n",
       "      <td>3</td>\n",
       "      <td>Amanda Farias</td>\n",
       "      <td>10</td>\n",
       "      <td>MA</td>\n",
       "      <td>Maranhão</td>\n",
       "      <td>Nordeste</td>\n",
       "      <td>82</td>\n",
       "      <td>2023-11-22</td>\n",
       "      <td>SKU-97371</td>\n",
       "      <td>Esporte</td>\n",
       "      <td>Patins</td>\n",
       "      <td>8</td>\n",
       "      <td>237.06</td>\n",
       "      <td>1896.48</td>\n",
       "      <td>Online</td>\n",
       "    </tr>\n",
       "    <tr>\n",
       "      <th>4</th>\n",
       "      <td>3</td>\n",
       "      <td>Amanda Farias</td>\n",
       "      <td>10</td>\n",
       "      <td>MA</td>\n",
       "      <td>Maranhão</td>\n",
       "      <td>Nordeste</td>\n",
       "      <td>373</td>\n",
       "      <td>2023-01-14</td>\n",
       "      <td>SKU-69331</td>\n",
       "      <td>Casa</td>\n",
       "      <td>Organizador de Gavetas</td>\n",
       "      <td>3</td>\n",
       "      <td>136.47</td>\n",
       "      <td>409.41</td>\n",
       "      <td>Online</td>\n",
       "    </tr>\n",
       "  </tbody>\n",
       "</table>\n",
       "</div>"
      ],
      "text/plain": [
       "   ID_Cliente              Nome_Cliente  id_estado sigla    estado    regiao  \\\n",
       "0           1  Sr. Enzo Gabriel Azevedo         22    RO  Rondônia     Norte   \n",
       "1           1  Sr. Enzo Gabriel Azevedo         22    RO  Rondônia     Norte   \n",
       "2           2    Srta. Kamilly da Rocha          4    AM  Amazonas     Norte   \n",
       "3           3             Amanda Farias         10    MA  Maranhão  Nordeste   \n",
       "4           3             Amanda Farias         10    MA  Maranhão  Nordeste   \n",
       "\n",
       "   ID_Venda        Data SKU_Produto    Categoria            Nome_Produto  \\\n",
       "0        33  2023-05-18   SKU-53822   Brinquedos           Quebra-cabeça   \n",
       "1       844  2023-03-30   SKU-97371      Esporte                  Patins   \n",
       "2       931  2023-12-28   SKU-50582  Eletrônicos                  Laptop   \n",
       "3        82  2023-11-22   SKU-97371      Esporte                  Patins   \n",
       "4       373  2023-01-14   SKU-69331         Casa  Organizador de Gavetas   \n",
       "\n",
       "   Quantidade    Preco  valor_venda        Canal  \n",
       "0          10   122.47      1224.70  Loja Física  \n",
       "1           3   237.06       711.18  Loja Física  \n",
       "2           5  4526.60     22633.00       Online  \n",
       "3           8   237.06      1896.48       Online  \n",
       "4           3   136.47       409.41       Online  "
      ]
     },
     "execution_count": 6,
     "metadata": {},
     "output_type": "execute_result"
    }
   ],
   "source": [
    "df.head()"
   ]
  },
  {
   "cell_type": "code",
   "execution_count": 12,
   "metadata": {},
   "outputs": [
    {
     "data": {
      "text/html": [
       "<div>\n",
       "<style scoped>\n",
       "    .dataframe tbody tr th:only-of-type {\n",
       "        vertical-align: middle;\n",
       "    }\n",
       "\n",
       "    .dataframe tbody tr th {\n",
       "        vertical-align: top;\n",
       "    }\n",
       "\n",
       "    .dataframe thead th {\n",
       "        text-align: right;\n",
       "    }\n",
       "</style>\n",
       "<table border=\"1\" class=\"dataframe\">\n",
       "  <thead>\n",
       "    <tr style=\"text-align: right;\">\n",
       "      <th></th>\n",
       "      <th>regiao</th>\n",
       "      <th>Canal</th>\n",
       "      <th>valor_venda</th>\n",
       "    </tr>\n",
       "  </thead>\n",
       "  <tbody>\n",
       "    <tr>\n",
       "      <th>3</th>\n",
       "      <td>Nordeste</td>\n",
       "      <td>Online</td>\n",
       "      <td>758777.45</td>\n",
       "    </tr>\n",
       "    <tr>\n",
       "      <th>4</th>\n",
       "      <td>Norte</td>\n",
       "      <td>Loja Física</td>\n",
       "      <td>583467.33</td>\n",
       "    </tr>\n",
       "    <tr>\n",
       "      <th>2</th>\n",
       "      <td>Nordeste</td>\n",
       "      <td>Loja Física</td>\n",
       "      <td>559776.56</td>\n",
       "    </tr>\n",
       "    <tr>\n",
       "      <th>5</th>\n",
       "      <td>Norte</td>\n",
       "      <td>Online</td>\n",
       "      <td>430254.68</td>\n",
       "    </tr>\n",
       "    <tr>\n",
       "      <th>1</th>\n",
       "      <td>Centro-Oeste</td>\n",
       "      <td>Online</td>\n",
       "      <td>318851.53</td>\n",
       "    </tr>\n",
       "    <tr>\n",
       "      <th>9</th>\n",
       "      <td>Sul</td>\n",
       "      <td>Online</td>\n",
       "      <td>233708.81</td>\n",
       "    </tr>\n",
       "    <tr>\n",
       "      <th>6</th>\n",
       "      <td>Sudeste</td>\n",
       "      <td>Loja Física</td>\n",
       "      <td>228608.08</td>\n",
       "    </tr>\n",
       "    <tr>\n",
       "      <th>8</th>\n",
       "      <td>Sul</td>\n",
       "      <td>Loja Física</td>\n",
       "      <td>221261.09</td>\n",
       "    </tr>\n",
       "    <tr>\n",
       "      <th>0</th>\n",
       "      <td>Centro-Oeste</td>\n",
       "      <td>Loja Física</td>\n",
       "      <td>135031.15</td>\n",
       "    </tr>\n",
       "    <tr>\n",
       "      <th>7</th>\n",
       "      <td>Sudeste</td>\n",
       "      <td>Online</td>\n",
       "      <td>115019.85</td>\n",
       "    </tr>\n",
       "  </tbody>\n",
       "</table>\n",
       "</div>"
      ],
      "text/plain": [
       "         regiao        Canal  valor_venda\n",
       "3      Nordeste       Online    758777.45\n",
       "4         Norte  Loja Física    583467.33\n",
       "2      Nordeste  Loja Física    559776.56\n",
       "5         Norte       Online    430254.68\n",
       "1  Centro-Oeste       Online    318851.53\n",
       "9           Sul       Online    233708.81\n",
       "6       Sudeste  Loja Física    228608.08\n",
       "8           Sul  Loja Física    221261.09\n",
       "0  Centro-Oeste  Loja Física    135031.15\n",
       "7       Sudeste       Online    115019.85"
      ]
     },
     "execution_count": 12,
     "metadata": {},
     "output_type": "execute_result"
    }
   ],
   "source": [
    "vendas_regiao = df.groupby(['regiao', 'Canal'])['valor_venda'].sum().reset_index()\n",
    "vendas_regiao.sort_values(by='valor_venda', ascending=False, inplace=True)\n",
    "vendas_regiao "
   ]
  },
  {
   "cell_type": "markdown",
   "metadata": {},
   "source": [
    "#### Gráfico de Barras\n",
    "***\n",
    "Um gráfico de barras é uma representação visual que usa barras retangulares para mostrar e comparar valores entre diferentes categorias. Cada barra representa uma categoria e seu tamanho é proporcional ao valor que representa. Esse tipo de gráfico é útil para visualizar e comparar dados de forma clara, sendo amplamente utilizado em relatórios, pesquisas e análises estatísticas."
   ]
  },
  {
   "cell_type": "code",
   "execution_count": 24,
   "metadata": {},
   "outputs": [
    {
     "data": {
      "text/plain": [
       "<matplotlib.legend.Legend at 0x1f2617c4f90>"
      ]
     },
     "execution_count": 24,
     "metadata": {},
     "output_type": "execute_result"
    },
    {
     "data": {
      "image/png": "[encoded data removed]",
      "text/plain": [
       "<Figure size 1200x1000 with 1 Axes>"
      ]
     },
     "metadata": {},
     "output_type": "display_data"
    }
   ],
   "source": [
    "plt.figure(figsize=(12, 10))\n",
    "sns.barplot(data=vendas_regiao,\n",
    "             x='regiao',\n",
    "             y='valor_venda',\n",
    "             hue='Canal')\n",
    "plt.title('Distribuição de Vendas por Região e Canal')\n",
    "plt.xlabel('Região')\n",
    "plt.ylabel('Valor de Vendas')\n",
    "plt.legend(title='Canal de vendas')\n"
   ]
  },
  {
   "cell_type": "code",
   "execution_count": null,
   "metadata": {},
   "outputs": [],
   "source": []
  },
  {
   "cell_type": "markdown",
   "metadata": {},
   "source": [
    "#### Gráfico de Linhas\n",
    "***\n",
    "Um gráfico de linhas é uma representação visual de dados onde pontos de dados são conectados por linhas para mostrar mudanças ao longo de um eixo, geralmente o tempo. Cada ponto representa um valor específico em um determinado momento. Esse tipo de gráfico é ideal para visualizar tendências, variações e padrões ao longo do tempo, como crescimento de vendas, evolução de preços ou mudanças em medidas científicas. É amplamente utilizado em análise de dados financeiros, estudos de mercado e pesquisa científica para facilitar a interpretação de dados sequenciais."
   ]
  },
  {
   "cell_type": "code",
   "execution_count": null,
   "metadata": {},
   "outputs": [],
   "source": []
  },
  {
   "cell_type": "code",
   "execution_count": null,
   "metadata": {},
   "outputs": [],
   "source": []
  },
  {
   "cell_type": "markdown",
   "metadata": {},
   "source": [
    "#### Gráfico de Dispersão\n",
    "***\n",
    "Um gráfico de dispersão é uma representação visual usada para mostrar a relação entre duas variáveis. Nele, cada ponto no gráfico indica a posição de um par de valores, com um valor no eixo X e outro no eixo Y. Esse tipo de gráfico é ideal para identificar padrões, correlações ou tendências entre as variáveis, como a ligação entre a altura e o peso de indivíduos, ou o impacto de uma variável sobre outra. É amplamente utilizado em análises estatísticas, pesquisa científica e estudos de mercado para visualizar como duas variáveis podem estar relacionadas."
   ]
  },
  {
   "cell_type": "code",
   "execution_count": null,
   "metadata": {},
   "outputs": [],
   "source": []
  },
  {
   "cell_type": "code",
   "execution_count": null,
   "metadata": {},
   "outputs": [],
   "source": []
  },
  {
   "cell_type": "markdown",
   "metadata": {},
   "source": [
    "#### Gráfico de Histograma\n",
    "***\n",
    "Um histograma é uma representação visual que ilustra a distribuição de um conjuento de dados, destacando a frequência de ocorrência em diferentes intervalos. Ele exibe a contagem de dados dentro de intervalos específicos, facilitando a visualização da dispersão e da concentração dos dados. \n",
    "\n",
    "No gráfico, as \"barras\" representam os invervalos, ou \"bins\", com a altura de cada barra indicando a quantidade de dados que caem dentro daquele intervalo. A largura das barras corresponde ao tamanho dos invervalos. O histograma permite a rápida identificação de padrões, como picos e lacunas, e ajuda a compreender a forma geral da distribuição dos dados. É amplamente utilizado em análises exploratórias para avaliar a distribuição e a variabilidade dos dados."
   ]
  },
  {
   "cell_type": "code",
   "execution_count": null,
   "metadata": {},
   "outputs": [],
   "source": []
  },
  {
   "cell_type": "code",
   "execution_count": null,
   "metadata": {},
   "outputs": [],
   "source": []
  },
  {
   "cell_type": "markdown",
   "metadata": {},
   "source": [
    "#### Gráfico Boxplot\n",
    "***\n",
    "Um boxplot é uma representação visual que resume a distribuição de um conjunto de dados, destacando seus principais estatísticos. Ele exibe a mediana, os quartis e os valores extremos, permitindo uma rápida identificação de assimetrias, dispersão e possíveis outliers. \n",
    "\n",
    "No gráfico, a \"caixa\" central mostra a distribuição dos 50% do meio dos dados, com a linha dentro da caixa representando a mediana. As \"linhas\" se estendem até os valores mínimos e máximos, enquanto pontos fora dessas linhas indicam outliers. O boxplot é amplamente utilizado em análises exploratórias de dados para comparar distribuições entre diferentes grupos ou conjuntos de dados."
   ]
  }
 ],
 "metadata": {
  "kernelspec": {
   "display_name": "modulo_1",
   "language": "python",
   "name": "python3"
  },
  "language_info": {
   "codemirror_mode": {
    "name": "ipython",
    "version": 3
   },
   "file_extension": ".py",
   "mimetype": "text/x-python",
   "name": "python",
   "nbconvert_exporter": "python",
   "pygments_lexer": "ipython3",
   "version": "3.11.2"
  }
 },
 "nbformat": 4,
 "nbformat_minor": 2
}
